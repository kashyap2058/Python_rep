{
 "cells": [
  {
   "cell_type": "code",
   "execution_count": 1,
   "id": "011f304f",
   "metadata": {},
   "outputs": [],
   "source": [
    "#Lambda functions or anonymous function\n",
    "# syntax\n",
    "# lambda <arguments>:<expression>"
   ]
  },
  {
   "cell_type": "code",
   "execution_count": 8,
   "id": "5939c8a9",
   "metadata": {},
   "outputs": [
    {
     "data": {
      "text/plain": [
       "16"
      ]
     },
     "execution_count": 8,
     "metadata": {},
     "output_type": "execute_result"
    }
   ],
   "source": [
    "x= lambda a:a**2\n",
    "x(4)\n",
    "# print(x)"
   ]
  },
  {
   "cell_type": "code",
   "execution_count": 9,
   "id": "c4cbc5cb",
   "metadata": {},
   "outputs": [
    {
     "data": {
      "text/plain": [
       "12"
      ]
     },
     "execution_count": 9,
     "metadata": {},
     "output_type": "execute_result"
    }
   ],
   "source": [
    "# Multi argument wala function\n",
    "a= lambda l,b:l*b\n",
    "a(4,3)"
   ]
  },
  {
   "cell_type": "code",
   "execution_count": 10,
   "id": "888a30a6",
   "metadata": {},
   "outputs": [
    {
     "data": {
      "text/plain": [
       "[44, 26, 34, 354]"
      ]
     },
     "execution_count": 10,
     "metadata": {},
     "output_type": "execute_result"
    }
   ],
   "source": [
    "#filtering used in cleaning datasets (similar to js)\n",
    "\n",
    "a=[23,44,26,341,34,21,9,43,354]\n",
    "list(filter(lambda x:x%2==0, a)) #list ma lambda function chalauna milxa"
   ]
  },
  {
   "cell_type": "code",
   "execution_count": 11,
   "id": "4b8c6a2c",
   "metadata": {},
   "outputs": [
    {
     "data": {
      "text/plain": [
       "['Apple', 'Fish', 'God']"
      ]
     },
     "execution_count": 11,
     "metadata": {},
     "output_type": "execute_result"
    }
   ],
   "source": [
    "#filtering in String lists where only strings starting with capital letters are used\n",
    "a=['Apple','ball',\"Fish\",'God','good']\n",
    "list(filter(lambda x:x[0].isupper(), a))"
   ]
  },
  {
   "cell_type": "code",
   "execution_count": 12,
   "id": "c901fdc3",
   "metadata": {},
   "outputs": [
    {
     "data": {
      "text/plain": [
       "['APPLE', 'BALL', 'FISH', 'GOD', 'GOOD']"
      ]
     },
     "execution_count": 12,
     "metadata": {},
     "output_type": "execute_result"
    }
   ],
   "source": [
    "#mapping(similar to map in js )\n",
    "# syntax\n",
    "# list(map( lambda <condition>, <list>))\n",
    "#Map function le chai datasets lai some changes haru jasto gari lyauxa\n",
    "a=['Apple','ball',\"Fish\",'God','good']\n",
    "list(map(lambda x:x.upper(),a)) #yesle savai thau ma capital banayera save gardinxa "
   ]
  },
  {
   "cell_type": "code",
   "execution_count": 13,
   "id": "4207ff00",
   "metadata": {},
   "outputs": [
    {
     "data": {
      "text/plain": [
       "['.ipynb_checkpoints',\n",
       " 'Multiple, multilevel inheritance and Encapsulation.ipynb',\n",
       " 'OOP class 2 Inheritance.ipynb',\n",
       " 'OOP in python ch1.ipynb',\n",
       " 'OOP operator overloading.ipynb',\n",
       " 'OOP others.ipynb']"
      ]
     },
     "execution_count": 13,
     "metadata": {},
     "output_type": "execute_result"
    }
   ],
   "source": [
    "#os package\n",
    "#funcyions haru chai hunxa os related\n",
    "#mostly files ma operations garauda yo use garinxa\n",
    "import os\n",
    "os.listdir()\n",
    "# mkdir(),chdir(),rmdir()"
   ]
  },
  {
   "cell_type": "code",
   "execution_count": 25,
   "id": "5f57419a",
   "metadata": {},
   "outputs": [],
   "source": [
    "import os \n",
    "os.mkdir(r\"New Folder text \")"
   ]
  },
  {
   "cell_type": "code",
   "execution_count": 22,
   "id": "561bb900",
   "metadata": {},
   "outputs": [
    {
     "data": {
      "text/plain": [
       "['.ipynb_checkpoints',\n",
       " 'Multiple, multilevel inheritance and Encapsulation.ipynb',\n",
       " 'New Folder text',\n",
       " 'OOP class 2 Inheritance.ipynb',\n",
       " 'OOP in python ch1.ipynb',\n",
       " 'OOP operator overloading.ipynb',\n",
       " 'OOP others.ipynb']"
      ]
     },
     "execution_count": 22,
     "metadata": {},
     "output_type": "execute_result"
    }
   ],
   "source": [
    "os.listdir()"
   ]
  },
  {
   "cell_type": "code",
   "execution_count": 16,
   "id": "dbd39359",
   "metadata": {},
   "outputs": [
    {
     "name": "stdout",
     "output_type": "stream",
     "text": [
      "The name of folder already exists\n"
     ]
    }
   ],
   "source": [
    "import os \n",
    "\n",
    "#yesma chai aaba exception handling garera new folder ko name same xa vane yesari handle garne\n",
    "try:\n",
    "    os.mkdir(r\"New Folder text \")\n",
    "except:\n",
    "    print(\"The name of folder already exists\")"
   ]
  },
  {
   "cell_type": "code",
   "execution_count": 17,
   "id": "c7efd758",
   "metadata": {},
   "outputs": [
    {
     "data": {
      "text/plain": [
       "'C:\\\\Users\\\\Kashyap Ghimire\\\\python training\\\\Python basics training\\\\OOP'"
      ]
     },
     "execution_count": 17,
     "metadata": {},
     "output_type": "execute_result"
    }
   ],
   "source": [
    "pwd"
   ]
  },
  {
   "cell_type": "code",
   "execution_count": 23,
   "id": "3cc2af85",
   "metadata": {},
   "outputs": [],
   "source": [
    "os.rmdir(r\"New Folder text \")"
   ]
  },
  {
   "cell_type": "code",
   "execution_count": 19,
   "id": "16809c34",
   "metadata": {},
   "outputs": [
    {
     "data": {
      "text/plain": [
       "'C:\\\\Users\\\\Kashyap Ghimire\\\\python training\\\\Python basics training\\\\OOP'"
      ]
     },
     "execution_count": 19,
     "metadata": {},
     "output_type": "execute_result"
    }
   ],
   "source": [
    "pwd"
   ]
  },
  {
   "cell_type": "code",
   "execution_count": 24,
   "id": "3ad426f3",
   "metadata": {},
   "outputs": [
    {
     "data": {
      "text/plain": [
       "['.ipynb_checkpoints',\n",
       " 'Multiple, multilevel inheritance and Encapsulation.ipynb',\n",
       " 'OOP class 2 Inheritance.ipynb',\n",
       " 'OOP in python ch1.ipynb',\n",
       " 'OOP operator overloading.ipynb',\n",
       " 'OOP others.ipynb']"
      ]
     },
     "execution_count": 24,
     "metadata": {},
     "output_type": "execute_result"
    }
   ],
   "source": [
    "os.listdir()"
   ]
  },
  {
   "cell_type": "code",
   "execution_count": 26,
   "id": "3513875a",
   "metadata": {},
   "outputs": [],
   "source": [
    "os.rename(r\"New Folder text \",'HAhaha')"
   ]
  },
  {
   "cell_type": "code",
   "execution_count": 27,
   "id": "48e9d835",
   "metadata": {},
   "outputs": [
    {
     "data": {
      "text/plain": [
       "['.ipynb_checkpoints',\n",
       " 'HAhaha',\n",
       " 'Multiple, multilevel inheritance and Encapsulation.ipynb',\n",
       " 'OOP class 2 Inheritance.ipynb',\n",
       " 'OOP in python ch1.ipynb',\n",
       " 'OOP operator overloading.ipynb',\n",
       " 'OOP others.ipynb']"
      ]
     },
     "execution_count": 27,
     "metadata": {},
     "output_type": "execute_result"
    }
   ],
   "source": [
    "os.listdir()"
   ]
  },
  {
   "cell_type": "code",
   "execution_count": 29,
   "id": "018b22f3",
   "metadata": {},
   "outputs": [
    {
     "data": {
      "text/plain": [
       "[0, 1, 2, 3, 4]"
      ]
     },
     "execution_count": 29,
     "metadata": {},
     "output_type": "execute_result"
    }
   ],
   "source": [
    "# comprihensions list dictionary (kind of like map)\n",
    "\n",
    "a= [i for i in range(5)]\n",
    "a \n",
    "# list lai automatically asign garna"
   ]
  },
  {
   "cell_type": "code",
   "execution_count": 33,
   "id": "67343c5f",
   "metadata": {},
   "outputs": [
    {
     "name": "stdout",
     "output_type": "stream",
     "text": [
      "Enter values 2\n",
      "Enter values 5\n",
      "Enter values 4\n",
      "Enter values 3\n",
      "Enter values 6\n",
      "[2, 5, 4, 3, 6]\n",
      "[0, 1, 4, 9, 16]\n"
     ]
    }
   ],
   "source": [
    "a= [int(input(\"Enter values \")) for i in range(5)]\n",
    "print(a)\n",
    "b=[i**2 for i in range(5)]\n",
    "print(b)"
   ]
  },
  {
   "cell_type": "code",
   "execution_count": 34,
   "id": "e2003bd5",
   "metadata": {},
   "outputs": [
    {
     "name": "stdout",
     "output_type": "stream",
     "text": [
      "Enter name= Kashyap\n",
      "Enter phone= 9813971415\n",
      "Enter name= Ram\n",
      "Enter phone= 13254156\n",
      "Enter name= Hari\n",
      "Enter phone= 321656616\n",
      "{'Kashyap': '9813971415', 'Ram': '13254156', 'Hari': '321656616'}\n"
     ]
    }
   ],
   "source": [
    "d= {input('Enter name= '):input(\"Enter phone= \") for i in range (3)}\n",
    "print(d)"
   ]
  },
  {
   "cell_type": "code",
   "execution_count": 35,
   "id": "ad0b6755",
   "metadata": {},
   "outputs": [
    {
     "data": {
      "text/plain": [
       "{'Apple': 'apple',\n",
       " 'ball': 'ball',\n",
       " 'Fish': 'fish',\n",
       " 'God': 'god',\n",
       " 'good': 'good'}"
      ]
     },
     "execution_count": 35,
     "metadata": {},
     "output_type": "execute_result"
    }
   ],
   "source": [
    "a=['Apple','ball',\"Fish\",'God','good']\n",
    "b={i:i.lower() for i in a}\n",
    "b"
   ]
  },
  {
   "cell_type": "code",
   "execution_count": 36,
   "id": "79e5ef50",
   "metadata": {},
   "outputs": [
    {
     "data": {
      "text/plain": [
       "['apple', 'ball', 'fish', 'god', 'good']"
      ]
     },
     "execution_count": 36,
     "metadata": {},
     "output_type": "execute_result"
    }
   ],
   "source": [
    "list(b.values()) #values lai list ma lageko"
   ]
  },
  {
   "cell_type": "code",
   "execution_count": null,
   "id": "0d83af19",
   "metadata": {},
   "outputs": [],
   "source": []
  }
 ],
 "metadata": {
  "kernelspec": {
   "display_name": "Python 3 (ipykernel)",
   "language": "python",
   "name": "python3"
  },
  "language_info": {
   "codemirror_mode": {
    "name": "ipython",
    "version": 3
   },
   "file_extension": ".py",
   "mimetype": "text/x-python",
   "name": "python",
   "nbconvert_exporter": "python",
   "pygments_lexer": "ipython3",
   "version": "3.10.9"
  }
 },
 "nbformat": 4,
 "nbformat_minor": 5
}
