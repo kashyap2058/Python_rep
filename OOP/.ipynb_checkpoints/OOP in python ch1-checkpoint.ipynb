{
 "cells": [
  {
   "cell_type": "code",
   "execution_count": 1,
   "id": "05f04eaa",
   "metadata": {},
   "outputs": [
    {
     "ename": "SyntaxError",
     "evalue": "invalid syntax (3315495767.py, line 1)",
     "output_type": "error",
     "traceback": [
      "\u001b[1;36m  Cell \u001b[1;32mIn[1], line 1\u001b[1;36m\u001b[0m\n\u001b[1;33m    class <Classname>: #classname sadhai capital bata suru hunxa python ma\u001b[0m\n\u001b[1;37m          ^\u001b[0m\n\u001b[1;31mSyntaxError\u001b[0m\u001b[1;31m:\u001b[0m invalid syntax\n"
     ]
    }
   ],
   "source": [
    "class <Classname>: #classname sadhai capital bata suru hunxa python ma \n",
    "    <methods>\n",
    "    \n",
    "obj = <Classname>() #obj vaneko object for class\n",
    "obj.<methods>"
   ]
  },
  {
   "cell_type": "code",
   "execution_count": 2,
   "id": "898df152",
   "metadata": {},
   "outputs": [
    {
     "name": "stdout",
     "output_type": "stream",
     "text": [
      "<class '__main__.Hello'>\n"
     ]
    }
   ],
   "source": [
    "class Hello:\n",
    "    pass\n",
    "obj=Hello() #object\n",
    "print(type(obj))"
   ]
  },
  {
   "cell_type": "code",
   "execution_count": 3,
   "id": "893a1db1",
   "metadata": {},
   "outputs": [
    {
     "ename": "TypeError",
     "evalue": "Hello.hello() takes 0 positional arguments but 1 was given",
     "output_type": "error",
     "traceback": [
      "\u001b[1;31m---------------------------------------------------------------------------\u001b[0m",
      "\u001b[1;31mTypeError\u001b[0m                                 Traceback (most recent call last)",
      "Cell \u001b[1;32mIn[3], line 6\u001b[0m\n\u001b[0;32m      3\u001b[0m         \u001b[38;5;28mprint\u001b[39m(\u001b[38;5;124m\"\u001b[39m\u001b[38;5;124mhello world\u001b[39m\u001b[38;5;124m\"\u001b[39m)\n\u001b[0;32m      5\u001b[0m obj\u001b[38;5;241m=\u001b[39mHello()\n\u001b[1;32m----> 6\u001b[0m \u001b[43mobj\u001b[49m\u001b[38;5;241;43m.\u001b[39;49m\u001b[43mhello\u001b[49m\u001b[43m(\u001b[49m\u001b[43m)\u001b[49m\n",
      "\u001b[1;31mTypeError\u001b[0m: Hello.hello() takes 0 positional arguments but 1 was given"
     ]
    }
   ],
   "source": [
    "class Hello:\n",
    "    def hello():    #yo function lai yesari define garda error auxa \n",
    "        print(\"hello world\")\n",
    "        \n",
    "obj=Hello()\n",
    "obj.hello()"
   ]
  },
  {
   "cell_type": "code",
   "execution_count": 4,
   "id": "2d659a35",
   "metadata": {},
   "outputs": [
    {
     "name": "stdout",
     "output_type": "stream",
     "text": [
      "hello world\n"
     ]
    }
   ],
   "source": [
    "class Hello:\n",
    "    @staticmethod #yo lekhesi yo function le paxi gayera class vitra define hune variable lai use gardaina so yesbata chai function lai call garna milxa \n",
    "    def hello():     \n",
    "        print(\"hello world\")\n",
    "        \n",
    "obj=Hello()\n",
    "obj.hello()"
   ]
  },
  {
   "cell_type": "code",
   "execution_count": 5,
   "id": "bf3ea759",
   "metadata": {},
   "outputs": [
    {
     "name": "stdout",
     "output_type": "stream",
     "text": [
      "hello world\n"
     ]
    }
   ],
   "source": [
    "#Mathi ko case ma class ko parameters lai access garna mildaina. So, teslai access garauna chai hamile yo self vanne argument use garxam\n",
    "class Hello:\n",
    "     \n",
    "    def hello(self): #self lai argument lai define garda use gareko xa vane chai tyo function le class ko vitra ko variable lai use garna milxa\n",
    "        \n",
    "        print(\"hello world\")\n",
    "        \n",
    "obj=Hello()\n",
    "obj.hello()"
   ]
  },
  {
   "cell_type": "code",
   "execution_count": 8,
   "id": "291bde0b",
   "metadata": {},
   "outputs": [
    {
     "name": "stdout",
     "output_type": "stream",
     "text": [
      "Area is  50\n",
      "The volume is  50\n"
     ]
    }
   ],
   "source": [
    "#constructors\n",
    "class Cal:\n",
    "   \n",
    "    @staticmethod\n",
    "    def area(l,b):\n",
    "        print(\"Area is \",(l*b))\n",
    "    @staticmethod\n",
    "    def volume(l,b,h):\n",
    "        print(\"The volume is \",(l*b*h))\n",
    "        \n",
    "obj=Cal()\n",
    "obj.area(10,5)\n",
    "obj.volume(10,5,1)\n",
    "\n"
   ]
  },
  {
   "cell_type": "code",
   "execution_count": 9,
   "id": "df4853da",
   "metadata": {},
   "outputs": [
    {
     "name": "stdout",
     "output_type": "stream",
     "text": [
      "Area is  50\n",
      "The volume is  50\n"
     ]
    }
   ],
   "source": [
    "#Self use garera chai yesari garne ho\n",
    "class Cal:\n",
    "   \n",
    "    \n",
    "    def area(self,l,b):\n",
    "        print(\"Area is \",(l*b))\n",
    "    \n",
    "    def volume(self,l,b,h):\n",
    "        print(\"The volume is \",(l*b*h))\n",
    "        \n",
    "obj=Cal()\n",
    "obj.area(10,5)\n",
    "obj.volume(10,5,1)\n",
    "\n"
   ]
  },
  {
   "cell_type": "code",
   "execution_count": 12,
   "id": "2150a5ce",
   "metadata": {},
   "outputs": [
    {
     "name": "stdout",
     "output_type": "stream",
     "text": [
      "Area is  50\n",
      "The volume is  100\n"
     ]
    }
   ],
   "source": [
    "#CONSTRUCTORSS \n",
    "#Mathi ko case ma chai function call gare piche nei value halna parxa yesle resource dherai khanxa\n",
    "#rather than doing this, we pass the value directly to class as shown below:\n",
    "#__init__ vanne method (Yesle chai initialize garna ma use garinxa ie. class vitra variables assign garna lai )\n",
    "#constructors\n",
    "class Cal:\n",
    "    def __init__(self,l,b,h):  #yo case ma self vaneko constructor ho\n",
    "        self.len = l\n",
    "        self.br= b\n",
    "        self.ht=h\n",
    "        \n",
    "    def area(self):\n",
    "        a=self.len*self.br\n",
    "        print(\"Area is \",a)\n",
    "    \n",
    "    def volume(self):\n",
    "        v=self.len*self.br*self.ht\n",
    "        print(\"The volume is \",v)\n",
    "        \n",
    "obj=Cal(10,5,2) #sidhai class ma pathaune rather than functions but yesto garda class le value initialize garna sakdaina. To initialize this value we use __init__ function \n",
    "obj.area()\n",
    "obj.volume()\n",
    "\n"
   ]
  },
  {
   "cell_type": "code",
   "execution_count": 13,
   "id": "3dab6bbc",
   "metadata": {},
   "outputs": [],
   "source": [
    "#NOTE\n",
    "#<self> parameter le chai provides reference to current instance of class. <self> parameter ko naam j lekhe ni hunxa \n",
    "#ie. self ko satta hamile HAHA lekhna, This lekhna ni pauxam"
   ]
  },
  {
   "cell_type": "code",
   "execution_count": null,
   "id": "496331fb",
   "metadata": {},
   "outputs": [],
   "source": []
  }
 ],
 "metadata": {
  "kernelspec": {
   "display_name": "Python 3 (ipykernel)",
   "language": "python",
   "name": "python3"
  },
  "language_info": {
   "codemirror_mode": {
    "name": "ipython",
    "version": 3
   },
   "file_extension": ".py",
   "mimetype": "text/x-python",
   "name": "python",
   "nbconvert_exporter": "python",
   "pygments_lexer": "ipython3",
   "version": "3.10.9"
  }
 },
 "nbformat": 4,
 "nbformat_minor": 5
}
