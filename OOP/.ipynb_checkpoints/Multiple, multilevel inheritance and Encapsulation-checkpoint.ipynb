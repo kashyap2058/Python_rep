{
 "cells": [
  {
   "cell_type": "code",
   "execution_count": 1,
   "id": "bcb2a035",
   "metadata": {},
   "outputs": [
    {
     "name": "stdout",
     "output_type": "stream",
     "text": [
      "Enter the name Kashyap\n",
      "Enter Age 22\n",
      "Enter address Kapan\n",
      "Hello World I am Kashyap. I am from Kapan. I am 22 years old\n"
     ]
    }
   ],
   "source": [
    "#Multilevel\n",
    "class Add:\n",
    "    def __init__(self,add):\n",
    "        self.add=add\n",
    "class Info(Add):\n",
    "    def __init__(self,age,add):\n",
    "        self.age=age\n",
    "        Add.__init__(self,add)\n",
    "class Data(Info):\n",
    "    def __init__(self,name,age,add):\n",
    "        self.name=name\n",
    "        Info.__init__(self,age,add)\n",
    "        \n",
    "    def info(self):\n",
    "        print(f\"Hello World I am {self.name}. I am from {self.add}. I am {self.age} years old\")\n",
    "        \n",
    "name = input(\"Enter the name \")\n",
    "age = int(input(\"Enter Age \"))\n",
    "add=input(\"Enter address \")\n",
    "obj=Data(name,age,add)\n",
    "obj.info()"
   ]
  },
  {
   "cell_type": "code",
   "execution_count": 3,
   "id": "881d5338",
   "metadata": {},
   "outputs": [
    {
     "name": "stdout",
     "output_type": "stream",
     "text": [
      "Enter the name Kashyap\n",
      "Enter Age 21\n",
      "Enter Blood group O+\n",
      "Enter Father name Ramchandra\n",
      "Enter Father's Age 52\n",
      "Enter Mother name Kamala\n",
      "Enter Mother's Age 51\n",
      "Name: Kashyap\tAge: 21\tBlood group: O+\n",
      "Father: Ramchandra\n",
      "Mother: Kamala\n"
     ]
    }
   ],
   "source": [
    "#multiple\n",
    "class Father:\n",
    "    def __init__(self,fname,fage):\n",
    "        self.fname=fname\n",
    "        self.fage=fage\n",
    "class Mother:\n",
    "    def __init__(self,mname,mage):\n",
    "        self.mage=mage\n",
    "        self.mname=mname\n",
    "class Child(Father,Mother):\n",
    "    def __init__(self,name,age,Bloodgroup,fname,fage,mname,mage):\n",
    "        self.name=name\n",
    "        self.age=age\n",
    "        self.Bloodgroup=Bloodgroup\n",
    "        Father.__init__(self,fname,fage)\n",
    "        Mother.__init__(self,mname,mage)\n",
    "        \n",
    "    def info(self):\n",
    "        print(f\"\\n\\nName: {self.name}\\tAge: {self.age}\\tBlood group: {self.Bloodgroup}\\nFather: {self.fname}\\nMother: {self.mname}\")\n",
    "        \n",
    "        \n",
    "name = input(\"Enter the name \")\n",
    "age = int(input(\"Enter Age \"))\n",
    "Bloodgroup=input(\"Enter Blood group \")\n",
    "fname=input(\"Enter Father name \")\n",
    "fage=int(input(\"Enter Father's Age \"))\n",
    "mname=input(\"Enter Mother name \")\n",
    "mage=int(input(\"Enter Mother's Age \"))\n",
    "\n",
    "\n",
    "obj=Child(name,age,Bloodgroup,fname,fage,mname,mage)\n",
    "obj.info()"
   ]
  },
  {
   "cell_type": "code",
   "execution_count": 4,
   "id": "6c994a6b",
   "metadata": {},
   "outputs": [
    {
     "name": "stdout",
     "output_type": "stream",
     "text": [
      "Enter the name Kashyap\n",
      "Enter Age 21\n",
      "Enter Blood group O+\n",
      "Enter Father name Ramchandra\n",
      "Enter Father's Age 52\n",
      "Enter Mother name Kamala\n",
      "Enter Mother's Age 51\n",
      "\n",
      "\n",
      "Name: Kashyap\tAge: 21\tBlood group: O+\n",
      "Father: Ramchandra\n",
      "Mother: Kamala\n"
     ]
    }
   ],
   "source": [
    "#multiple (alternative way)\n",
    "class Father:\n",
    "    def __init__(self):\n",
    "        self.fname=input(\"Enter Father name \")\n",
    "        self.fage=int(input(\"Enter Father's Age \"))\n",
    "class Mother:\n",
    "    def __init__(self):\n",
    "        self.mname=input(\"Enter Mother name \")\n",
    "        self.mage=int(input(\"Enter Mother's Age \"))\n",
    "class Child(Father,Mother):\n",
    "    def __init__(self):\n",
    "        self.name=name = input(\"Enter the name \")\n",
    "        self.age = int(input(\"Enter Age \"))\n",
    "        self.Bloodgroup=input(\"Enter Blood group \")\n",
    "        Father.__init__(self)\n",
    "        Mother.__init__(self)\n",
    "        \n",
    "    def info(self):\n",
    "        print(f\"\\n\\nName: {self.name}\\tAge: {self.age}\\tBlood group: {self.Bloodgroup}\\nFather: {self.fname}\\nMother: {self.mname}\")\n",
    "        \n",
    "        \n",
    "\n",
    "\n",
    "\n",
    "obj=Child()\n",
    "obj.info()"
   ]
  },
  {
   "cell_type": "code",
   "execution_count": 12,
   "id": "30e1b367",
   "metadata": {},
   "outputs": [
    {
     "name": "stdout",
     "output_type": "stream",
     "text": [
      "Hello World I am Ram. I am from Kathmandu. I am 40 years old\n",
      "Ram Kathmandu 40\n"
     ]
    }
   ],
   "source": [
    "#encapsulation\n",
    "#protected members (Can be accessed From anywhere)\n",
    "#_ dine parameters ko aagadi\n",
    "\n",
    "class Info():\n",
    "    def __init__(self):\n",
    "        self._name=\"Ram\"\n",
    "        self._age=40\n",
    "        self._add=\"Kathmandu\"\n",
    "        \n",
    "class Data(Info):\n",
    "        \n",
    "    def info(self):\n",
    "        print(f\"Hello World I am {self._name}. I am from {self._add}. I am {self._age} years old\")\n",
    "        \n",
    "# name = input(\"Enter the name \")\n",
    "# age = int(input(\"Enter Age \"))\n",
    "# add=input(\"Enter address \")\n",
    "obj=Data()\n",
    "# print(obj.name,obj.add,obj.age)\n",
    "obj.info()\n",
    "# print(obj._name,obj._add,obj._age) yo chalna chai chalxa but is not used(python ko limitaton) this is only used for debugging"
   ]
  },
  {
   "cell_type": "code",
   "execution_count": 28,
   "id": "7ff7863b",
   "metadata": {},
   "outputs": [
    {
     "name": "stdout",
     "output_type": "stream",
     "text": [
      "I am 40 years old\n",
      "Hello World I am Ram. I am from Kathmandu.\n",
      "I am 40 years old\n"
     ]
    }
   ],
   "source": [
    "#encapsulation\n",
    "#private members (Can be accessed only From that specific class)\n",
    "#__ dine parameters ko aagadi\n",
    "\n",
    "class Info():\n",
    "    def __init__(self):\n",
    "        self._name=\"Ram\"\n",
    "        self.__age=40\n",
    "        self._add=\"Kathmandu\"\n",
    "    def myinfos(self):\n",
    "        print(f\"I am {self.__age} years old\")\n",
    "        \n",
    "class Data(Info):\n",
    "        \n",
    "    def info(self):\n",
    "#         print(f\"Hello World I am {self._name}. I am from {self._add}. I am {self._age} years old\")\n",
    "        print(f\"Hello World I am {self._name}. I am from {self._add}.\")\n",
    "        \n",
    "# name = input(\"Enter the name \")\n",
    "# age = int(input(\"Enter Age \"))\n",
    "# add=input(\"Enter address \")\n",
    "obj=Data()\n",
    "H=Info()\n",
    "H.myinfos()\n",
    "# print(obj.name,obj.add,obj.age)\n",
    "obj.info()\n",
    "obj.myinfos()\n",
    "# print(obj._name,obj._add,obj._age) yo chalna chai chalxa but is not used(python ko limitaton) this is only used for debugging"
   ]
  },
  {
   "cell_type": "code",
   "execution_count": 29,
   "id": "9f825686",
   "metadata": {},
   "outputs": [
    {
     "name": "stdout",
     "output_type": "stream",
     "text": [
      "Hello World I am Ram. I am from Kathmandu.\n",
      "40\n",
      "I am 40 years old\n"
     ]
    }
   ],
   "source": [
    "\n",
    "\n",
    "class Info():\n",
    "    def __init__(self):\n",
    "        self._name=\"Ram\"\n",
    "        self.__age=40\n",
    "        self._add=\"Kathmandu\"\n",
    "    def myinfos(self):\n",
    "        print(f\"I am {self.__age} years old\")\n",
    "    def myage(self):\n",
    "        return self.__age\n",
    "        \n",
    "class Data(Info):\n",
    "        \n",
    "    def info(self):\n",
    "#         print(f\"Hello World I am {self._name}. I am from {self._add}. I am {self._age} years old\")\n",
    "        print(f\"Hello World I am {self._name}. I am from {self._add}.\")\n",
    "        print(Info.myage(self))  #return garda private members ko ni value haru chalauda milxa\n",
    "        \n",
    "obj=Data()\n",
    "obj.info()\n",
    "obj.myinfos()\n"
   ]
  },
  {
   "cell_type": "code",
   "execution_count": null,
   "id": "c6afa83d",
   "metadata": {},
   "outputs": [],
   "source": []
  }
 ],
 "metadata": {
  "kernelspec": {
   "display_name": "Python 3 (ipykernel)",
   "language": "python",
   "name": "python3"
  },
  "language_info": {
   "codemirror_mode": {
    "name": "ipython",
    "version": 3
   },
   "file_extension": ".py",
   "mimetype": "text/x-python",
   "name": "python",
   "nbconvert_exporter": "python",
   "pygments_lexer": "ipython3",
   "version": "3.10.9"
  }
 },
 "nbformat": 4,
 "nbformat_minor": 5
}
