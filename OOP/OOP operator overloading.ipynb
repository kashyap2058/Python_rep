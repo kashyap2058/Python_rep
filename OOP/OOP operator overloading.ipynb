{
 "cells": [
  {
   "cell_type": "code",
   "execution_count": 2,
   "id": "e09ca7a3",
   "metadata": {},
   "outputs": [
    {
     "name": "stdout",
     "output_type": "stream",
     "text": [
      "5,6\n",
      "5+i6\n"
     ]
    }
   ],
   "source": [
    "#operator overloading\n",
    "#__str__ MEthod is used to return parameters as an string\n",
    "\n",
    "class Complex:\n",
    "    def __init__(self,x,y):\n",
    "        self.re=x\n",
    "        self.im=y\n",
    "    def __str__(self):\n",
    "        return f\"{self.re},{self.im}\" #returns real and imaginary parts as string\"\n",
    "    \n",
    "    def __add__(self,other):\n",
    "        x=self.re+other.im\n",
    "        y=self.im+other.im\n",
    "        return Complex(x,y)\n",
    "    def display(self):\n",
    "        print(f\"{self.re}+i{self.im}\")\n",
    "        \n",
    "obj1=Complex(1,2)\n",
    "obj2=Complex(3,4)\n",
    "obj3=obj1+obj2\n",
    "print(obj3)  #returns value similar to tuple\n",
    "obj3.display()\n"
   ]
  },
  {
   "cell_type": "code",
   "execution_count": 3,
   "id": "c7901e55",
   "metadata": {},
   "outputs": [
    {
     "name": "stdout",
     "output_type": "stream",
     "text": [
      "init method calling re=1 im=2\n",
      "init method calling re=3 im=4\n",
      "init method calling re=5 im=6\n",
      "add method calling re=5 im=6\n",
      "init method calling re=5 im=6\n",
      "add method calling re=11 im=12\n",
      "init method calling re=11 im=12\n",
      "11,12\n",
      "5+i6\n"
     ]
    }
   ],
   "source": [
    "#to check how individual functions are called:\n",
    "#if 3ta objects lai add garna xa vane at first 2ta object create hunxa after that tyo add method ko result store garna naya object aafai create hunxa and then that new object is added with third object\n",
    "#__str__ MEthod is used to return parameters as an string used in operator overloading\n",
    "class Complex:\n",
    "    def __init__(self,x,y):\n",
    "        self.re=x\n",
    "        self.im=y\n",
    "        print(f\"init method calling re={self.re} im={self.im}\")\n",
    "    def __str__(self):\n",
    "        return f\"{self.re},{self.im}\" #returns real and imaginary parts as string and gets called before print operation\n",
    "        print(f\"str method calling re={self.re} im={self.im}\")\n",
    "    def __add__(self,other):\n",
    "        x=self.re+other.im\n",
    "        y=self.im+other.im\n",
    "        print(f\"add method calling re={x} im={y}\")\n",
    "        return Complex(x,y)\n",
    "    def display(self):\n",
    "        print(f\"{self.re}+i{self.im}\")\n",
    "        \n",
    "obj1=Complex(1,2)\n",
    "obj2=Complex(3,4)\n",
    "obj3=Complex(5,6)\n",
    "obj=obj1+obj2+obj3\n",
    "print(obj)  #returns value similar to tuple\n",
    "obj3.display()\n"
   ]
  },
  {
   "cell_type": "code",
   "execution_count": 6,
   "id": "45f817d1",
   "metadata": {},
   "outputs": [
    {
     "name": "stdout",
     "output_type": "stream",
     "text": [
      "<class '__main__.Complex'>\n"
     ]
    }
   ],
   "source": []
  },
  {
   "cell_type": "code",
   "execution_count": null,
   "id": "f8ca749d",
   "metadata": {},
   "outputs": [],
   "source": []
  }
 ],
 "metadata": {
  "kernelspec": {
   "display_name": "Python 3 (ipykernel)",
   "language": "python",
   "name": "python3"
  },
  "language_info": {
   "codemirror_mode": {
    "name": "ipython",
    "version": 3
   },
   "file_extension": ".py",
   "mimetype": "text/x-python",
   "name": "python",
   "nbconvert_exporter": "python",
   "pygments_lexer": "ipython3",
   "version": "3.10.9"
  }
 },
 "nbformat": 4,
 "nbformat_minor": 5
}
