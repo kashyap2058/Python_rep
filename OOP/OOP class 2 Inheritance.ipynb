{
 "cells": [
  {
   "cell_type": "code",
   "execution_count": 3,
   "id": "bbbf30fe",
   "metadata": {},
   "outputs": [
    {
     "name": "stdout",
     "output_type": "stream",
     "text": [
      "Enter the name Kashyap \n",
      "Enter Age 21\n",
      "Enter address Kapan\n",
      "Hello World I am Kashyap . I am from Kapan. I am 21 years old.\n",
      "Kashyap \n"
     ]
    }
   ],
   "source": [
    "#__init__ method bata pani parameters initialize garna milxa by asking from users\n",
    "\n",
    "\n",
    "class Info:\n",
    "    def __init__(self):\n",
    "        self.name = input(\"Enter the name \")\n",
    "        self.age = int(input(\"Enter Age \"))\n",
    "        self.add=input(\"Enter address \")\n",
    "        \n",
    "    def info(self):\n",
    "        print(f\"Hello World I am {self.name}. I am from {self.add}. I am {self.age} years old.\")\n",
    "        \n",
    "obj=Info()\n",
    "obj.info() \n",
    "print(obj.name)  #obj ko naam access garna ko lagi kaam garxa"
   ]
  },
  {
   "cell_type": "code",
   "execution_count": 8,
   "id": "748b6163",
   "metadata": {},
   "outputs": [
    {
     "name": "stdout",
     "output_type": "stream",
     "text": [
      "Enter the name jaha\n",
      "Enter Age 22\n",
      "Enter address kaka\n",
      "Name \tjaha \n",
      "Grade \t22 \n",
      "  \n"
     ]
    }
   ],
   "source": [
    "#inheritance\n",
    "\n",
    "class Parent:\n",
    "    def __init__(self):\n",
    "        self.name = input(\"Enter the name \")\n",
    "        self.age = int(input(\"Enter Age \"))\n",
    "        self.add=input(\"Enter address \")\n",
    "class Child(Parent):  #Yesari chai inheritance ko kaam garxa\n",
    "#     def info(self):\n",
    "#         self.Cname=input(\"Enter child name \")\n",
    "#         self.grade=float(\"Enter grade obtained \")\n",
    "    def report(self):\n",
    "        print(f\"Name \\t{self.name} \\nGrade \\t{self.age} \\n  \")\n",
    "        \n",
    "        \n",
    "obj=Child()\n",
    "obj.report()"
   ]
  },
  {
   "cell_type": "code",
   "execution_count": 11,
   "id": "1ea853ae",
   "metadata": {},
   "outputs": [
    {
     "name": "stdout",
     "output_type": "stream",
     "text": [
      "Enter the name Ramchandra Ghimire\n",
      "Enter Age 52\n",
      "Enter address Kapan\n",
      "Enter child name Kashyap Ghimire\n",
      "Enter grade obtained 3.6\n",
      "Name \tKashyap Ghimire \n",
      "Grade \t3.6 \n",
      "Parent \tRamchandra Ghimire \n"
     ]
    }
   ],
   "source": [
    "#inheritance\n",
    "\n",
    "class Parent:\n",
    "    def __init__(self):\n",
    "        self.name = input(\"Enter the name \")\n",
    "        self.age = int(input(\"Enter Age \"))\n",
    "        self.add=input(\"Enter address \")\n",
    "class Child(Parent):  #Yesari chai inheritance ko kaam garxa\n",
    "    def __init__(self):\n",
    "#         super().__init__() #yesari lekhna ni milxa natra tala jasari ni garna milxa\n",
    "        Parent.__init__(self)\n",
    "        self.Cname=input(\"Enter child name \")\n",
    "        self.grade=float(input(\"Enter grade obtained \"))\n",
    "    def report(self):\n",
    "        print(f\"Name \\t{self.Cname} \\nGrade \\t{self.grade} \\nParent \\t{self.name} \")\n",
    "        \n",
    "        \n",
    "obj=Child()\n",
    "obj.report()"
   ]
  },
  {
   "cell_type": "code",
   "execution_count": 18,
   "id": "5b156d08",
   "metadata": {},
   "outputs": [
    {
     "name": "stdout",
     "output_type": "stream",
     "text": [
      "Enter parents name ra\n",
      "Enter child name ka\n",
      "Enter grade obtained 3.2\n",
      "Enter addressKa\n",
      "Name \tka \n",
      "Grade \t3.2 \n",
      "Parent \tra \n"
     ]
    }
   ],
   "source": [
    "#inheritance\n",
    "# Parent class ma data child bata pathauna xa vane yo garne\n",
    "\n",
    "class Parent:\n",
    "    def __init__(self,add,name):\n",
    "        self.name=name\n",
    "        self.add=add\n",
    "class Child(Parent):  #Yesari chai inheritance ko kaam garxa\n",
    "    def __init__(self,Cname,grade,add,name):\n",
    "        Parent.__init__(self,add,name)\n",
    "        self.Cname=Cname\n",
    "        self.grade=grade\n",
    "        \n",
    "       \n",
    "    def report(self):\n",
    "        print(f\"Name \\t{self.Cname} \\nGrade \\t{self.grade} \\nParent \\t{self.name} \")\n",
    "        \n",
    "        \n",
    "        \n",
    "name=input(\"Enter parents name \")       \n",
    "Cname=input(\"Enter child name \")\n",
    "grade=float(input(\"Enter grade obtained \"))   \n",
    "add=input(\"Enter address\")\n",
    "obj=Child(Cname,grade,add,name)\n",
    "obj.report()"
   ]
  },
  {
   "cell_type": "code",
   "execution_count": 19,
   "id": "72915654",
   "metadata": {},
   "outputs": [],
   "source": [
    "#multilevel inheritance:\n",
    "class A:\n",
    "    pass\n",
    "class B:\n",
    "    pass\n",
    "class C:\n",
    "    pass\n",
    "\n",
    "\n",
    "obj =C()"
   ]
  },
  {
   "cell_type": "code",
   "execution_count": 20,
   "id": "c947e878",
   "metadata": {},
   "outputs": [],
   "source": [
    "# multiple inheritance\n",
    "class A:\n",
    "    pass\n",
    "class B:\n",
    "    pass\n",
    "class C(A,B):\n",
    "    pass\n",
    "obj=C()"
   ]
  },
  {
   "cell_type": "code",
   "execution_count": null,
   "id": "c880f21c",
   "metadata": {},
   "outputs": [],
   "source": []
  }
 ],
 "metadata": {
  "kernelspec": {
   "display_name": "Python 3 (ipykernel)",
   "language": "python",
   "name": "python3"
  },
  "language_info": {
   "codemirror_mode": {
    "name": "ipython",
    "version": 3
   },
   "file_extension": ".py",
   "mimetype": "text/x-python",
   "name": "python",
   "nbconvert_exporter": "python",
   "pygments_lexer": "ipython3",
   "version": "3.10.9"
  }
 },
 "nbformat": 4,
 "nbformat_minor": 5
}
