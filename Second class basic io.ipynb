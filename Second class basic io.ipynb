{
 "cells": [
  {
   "cell_type": "code",
   "execution_count": 3,
   "id": "246d2aef",
   "metadata": {},
   "outputs": [
    {
     "name": "stdout",
     "output_type": "stream",
     "text": [
      "Enter first number\t10\n",
      "10\n",
      "<class 'int'>\n"
     ]
    }
   ],
   "source": [
    "a=int(input(\"Enter first number\\t\"))#a is integer else it is a string.\n",
    "\n",
    "print(a)\n",
    "print(type(a))"
   ]
  },
  {
   "cell_type": "code",
   "execution_count": 4,
   "id": "e3f20dd9",
   "metadata": {},
   "outputs": [
    {
     "name": "stdout",
     "output_type": "stream",
     "text": [
      "Enter value10\n",
      "Enter value20\n",
      "1020\n"
     ]
    }
   ],
   "source": [
    "a=input(\"Enter value\")\n",
    "b=input(\"Enter value\")\n",
    "print(a+b) #concatination garxa for us to be able to add the numbers, we should convert it into integer"
   ]
  },
  {
   "cell_type": "code",
   "execution_count": 11,
   "id": "0b895202",
   "metadata": {},
   "outputs": [
    {
     "name": "stdout",
     "output_type": "stream",
     "text": [
      "-10\n",
      "True\n"
     ]
    }
   ],
   "source": [
    "#type casting string to int \n",
    "a='-10'\n",
    "print(int(a))\n",
    "print(bool(a))"
   ]
  },
  {
   "cell_type": "code",
   "execution_count": 13,
   "id": "6c60c819",
   "metadata": {},
   "outputs": [
    {
     "name": "stdout",
     "output_type": "stream",
     "text": [
      "Enter priciple 50\n",
      "Enter time in years 50\n",
      "Enter Rate in percent 50\n",
      "The interest is 1250.0\n"
     ]
    }
   ],
   "source": [
    "#Program to calculate Simple interest\n",
    "P=int(input(\"Enter priciple \"))\n",
    "T=float(input(\"Enter time in years \"))\n",
    "R=float(input(\"Enter Rate in percent \"))\n",
    "i=(P*T*R/100)\n",
    "print(\"The interest is\",i)"
   ]
  },
  {
   "cell_type": "code",
   "execution_count": 15,
   "id": "27fdcb15",
   "metadata": {},
   "outputs": [
    {
     "name": "stdout",
     "output_type": "stream",
     "text": [
      "Enter name\tHahah\n",
      "Enter Age\t49\n",
      "Enter address\thehe\n",
      "Hello Hahah . You are 49 years old and you live in hehe\n"
     ]
    }
   ],
   "source": [
    "name=input(\"Enter name\\t\")\n",
    "age=int(input(\"Enter Age\\t\"))\n",
    "addr=input(\"Enter address\\t\")\n",
    "\n",
    "info = 'Hello '+name+' . You are '+str(age)+' years old and you live in '+addr\n",
    "print(info)\n"
   ]
  },
  {
   "cell_type": "code",
   "execution_count": 17,
   "id": "77b5e15d",
   "metadata": {},
   "outputs": [
    {
     "name": "stdout",
     "output_type": "stream",
     "text": [
      "Enter name\tKashyap\n",
      "Enter marks in physics50\n",
      "Enter chemistry marks50\n",
      "Enter  math marks50\n",
      "Enter english marks50\n",
      "Total:\t 200.0 \t\tPercentage:\t 50.0\n"
     ]
    }
   ],
   "source": [
    "name=input(\"Enter name\\t\")\n",
    "phy=float(input(\"Enter marks in physics \"))\n",
    "chem=float(input(\"Enter chemistry marks \"))\n",
    "math=float(input(\"Enter  math marks \"))\n",
    "eng=float(input(\"Enter english marks \"))\n",
    "total=phy+math+chem+eng\n",
    "percent=total/4\n",
    "print(\"Total:\\t\",total,\"\\t\\tPercentage:\\t\",percent)\n",
    "\n"
   ]
  },
  {
   "cell_type": "code",
   "execution_count": null,
   "id": "738b9fa8",
   "metadata": {},
   "outputs": [],
   "source": []
  }
 ],
 "metadata": {
  "kernelspec": {
   "display_name": "Python 3 (ipykernel)",
   "language": "python",
   "name": "python3"
  },
  "language_info": {
   "codemirror_mode": {
    "name": "ipython",
    "version": 3
   },
   "file_extension": ".py",
   "mimetype": "text/x-python",
   "name": "python",
   "nbconvert_exporter": "python",
   "pygments_lexer": "ipython3",
   "version": "3.10.9"
  }
 },
 "nbformat": 4,
 "nbformat_minor": 5
}
