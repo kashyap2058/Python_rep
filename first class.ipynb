{
 "cells": [
  {
   "cell_type": "code",
   "execution_count": 3,
   "id": "1325ac03",
   "metadata": {},
   "outputs": [
    {
     "name": "stdout",
     "output_type": "stream",
     "text": [
      "10\n",
      "10.5\n",
      "Hello\n",
      "True\n",
      "(2+3j)\n",
      "10 10.5 Hello True (2+3j)\n"
     ]
    }
   ],
   "source": [
    "a=10\n",
    "b=10.5\n",
    "c=\"Hello\"\n",
    "d=True\n",
    "e=2+3j\n",
    "print(a)\n",
    "print(b)\n",
    "print(c)\n",
    "print(d)\n",
    "print(e)\n",
    "print(a,b,c,d,e)"
   ]
  },
  {
   "cell_type": "code",
   "execution_count": 4,
   "id": "5c524132",
   "metadata": {},
   "outputs": [
    {
     "name": "stdout",
     "output_type": "stream",
     "text": [
      "The type of a is <class 'int'>\n",
      "The type of e is <class 'complex'>\n"
     ]
    }
   ],
   "source": [
    "print(\"The type of a is\",type(a))\n",
    "print(\"The type of e is\",type(e)) "
   ]
  },
  {
   "cell_type": "code",
   "execution_count": null,
   "id": "0ab177ac",
   "metadata": {},
   "outputs": [],
   "source": [
    "# operators:\n",
    "# /,+,-,*,**(power),//(float division aagadi ko matra dinxa)"
   ]
  },
  {
   "cell_type": "code",
   "execution_count": 7,
   "id": "d95723bf",
   "metadata": {},
   "outputs": [
    {
     "name": "stdout",
     "output_type": "stream",
     "text": [
      "20.5\n",
      "-0.5\n",
      "31622776601.683792\n",
      "0.0\n"
     ]
    }
   ],
   "source": [
    "print(a+b)\n",
    "print(a-b)\n",
    "print(a**b)\n",
    "print(a//b)\n",
    "\n"
   ]
  },
  {
   "cell_type": "code",
   "execution_count": null,
   "id": "6f0fa6ca",
   "metadata": {},
   "outputs": [],
   "source": []
  },
  {
   "cell_type": "code",
   "execution_count": 17,
   "id": "06348bac",
   "metadata": {},
   "outputs": [
    {
     "name": "stdout",
     "output_type": "stream",
     "text": [
      "Kashyap\tGhimire\n",
      "Kashyap\tKashyap\tKashyap\t\n"
     ]
    }
   ],
   "source": [
    "f='Kashyap\\t'\n",
    "g='Ghimire'\n",
    "#the only operators that can be used in string is + and *\n",
    "print(f+g)\n",
    "print(f*3) #multiple times print"
   ]
  },
  {
   "cell_type": "code",
   "execution_count": 19,
   "id": "6275c0f5",
   "metadata": {},
   "outputs": [
    {
     "name": "stdout",
     "output_type": "stream",
     "text": [
      "1010\n"
     ]
    }
   ],
   "source": [
    "a='10'\n",
    "a*2"
   ]
  },
  {
   "cell_type": "code",
   "execution_count": null,
   "id": "85d0b4b8",
   "metadata": {},
   "outputs": [],
   "source": []
  }
 ],
 "metadata": {
  "kernelspec": {
   "display_name": "Python 3 (ipykernel)",
   "language": "python",
   "name": "python3"
  },
  "language_info": {
   "codemirror_mode": {
    "name": "ipython",
    "version": 3
   },
   "file_extension": ".py",
   "mimetype": "text/x-python",
   "name": "python",
   "nbconvert_exporter": "python",
   "pygments_lexer": "ipython3",
   "version": "3.10.9"
  }
 },
 "nbformat": 4,
 "nbformat_minor": 5
}
