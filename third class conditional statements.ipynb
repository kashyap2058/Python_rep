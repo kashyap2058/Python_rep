{
 "cells": [
  {
   "cell_type": "code",
   "execution_count": 1,
   "id": "a95ee14f",
   "metadata": {},
   "outputs": [],
   "source": [
    "# if else statements\n",
    "# looping statements"
   ]
  },
  {
   "cell_type": "code",
   "execution_count": 2,
   "id": "1273f036",
   "metadata": {},
   "outputs": [],
   "source": [
    "# if (condition):\n",
    "#     operation\n",
    "# elif(second condition):\n",
    "#     op\n",
    "# else:\n",
    "#     op"
   ]
  },
  {
   "cell_type": "code",
   "execution_count": 6,
   "id": "207561fe",
   "metadata": {},
   "outputs": [
    {
     "name": "stdout",
     "output_type": "stream",
     "text": [
      "Enter a number10\n",
      "Enter b20\n",
      "20 is greater than  10\n"
     ]
    }
   ],
   "source": [
    "a=int(input(\"Enter a number \"))\n",
    "b=int(input(\"Enter b\"))\n",
    "if(a>b):\n",
    "    print(a,'is greater than ',b)\n",
    "elif(b>a):\n",
    "    print(b,'is greater than ',a)\n",
    "else:\n",
    "    print(\"Both are equal\")\n",
    "    "
   ]
  },
  {
   "cell_type": "code",
   "execution_count": 8,
   "id": "b9afa95a",
   "metadata": {},
   "outputs": [
    {
     "name": "stdout",
     "output_type": "stream",
     "text": [
      "Enter a number 20\n",
      "20  is even\n"
     ]
    }
   ],
   "source": [
    "a=int(input(\"Enter a number \"))\n",
    "if a%2==0:\n",
    "    print(a,\" is even\")\n",
    "else:\n",
    "    print(a,\" is odd\")\n"
   ]
  },
  {
   "cell_type": "code",
   "execution_count": 13,
   "id": "d5ea62bd",
   "metadata": {},
   "outputs": [
    {
     "name": "stdout",
     "output_type": "stream",
     "text": [
      "Enter a number 20\n",
      "Enter b 0\n",
      "Enter an operator + or - or * or / /\n",
      "The value of b can't be zero\n"
     ]
    }
   ],
   "source": [
    "# Calculator program\n",
    "a=int(input(\"Enter a number \"))\n",
    "b=int(input(\"Enter b \"))\n",
    "o=input(\"Enter an operator + or - or * or / \")\n",
    "if(o=='+'):\n",
    "    print(\"The sum of a and b is \",a+b)\n",
    "elif o=='-':\n",
    "    print(\"The difference is \", a-b)\n",
    "elif o=='*':\n",
    "    print(\"The product is \", a*b)\n",
    "elif o=='/' and b!=0:\n",
    "    print(\"The division result is \",a/b)\n",
    "\n",
    "elif o=='/' and b==0:\n",
    "    print(\"The value of b can't be zero\")\n",
    "else:\n",
    "    print(\"INVALID OPERATOR\")\n",
    "    "
   ]
  },
  {
   "cell_type": "code",
   "execution_count": 1,
   "id": "f11f5c79",
   "metadata": {},
   "outputs": [
    {
     "name": "stdout",
     "output_type": "stream",
     "text": [
      "Enter name\thaha\n",
      "Enter marks in physics 50\n",
      "Enter chemistry marks 50\n",
      "Enter  math marks 50\n",
      "Enter english marks 50\n",
      "Total:\t 200.0 \t\tPercentage:\t 50.0\n",
      "Grade:\t B\n"
     ]
    }
   ],
   "source": [
    "# Multiple conditional statements\n",
    "name=input(\"Enter name\\t\")\n",
    "phy=float(input(\"Enter marks in physics \"))\n",
    "chem=float(input(\"Enter chemistry marks \"))\n",
    "math=float(input(\"Enter  math marks \"))\n",
    "eng=float(input(\"Enter english marks \"))\n",
    "if phy <32 or chem<32 or math<32 or eng<32:\n",
    "    grade = 'fail'\n",
    "    per = 0\n",
    "    total=phy+math+chem+eng\n",
    "    \n",
    "    print(\"Total:\\t\",total,\"\\t\\tPercentage:\\t\",per)\n",
    "    \n",
    "else:\n",
    "    total=phy+math+chem+eng\n",
    "    per=total/4\n",
    "    print(\"Total:\\t\",total,\"\\t\\tPercentage:\\t\",per)\n",
    "    if per >=80:\n",
    "        grade = 'A'\n",
    "    elif per>=70 or per<80:\n",
    "        grade='B'\n",
    "    elif per>=60 or per<70:\n",
    "        grade='C'\n",
    "    else:\n",
    "        grade = 'F'\n",
    "    \n",
    "    \n",
    "print(\"Grade:\\t\",grade)"
   ]
  },
  {
   "cell_type": "code",
   "execution_count": null,
   "id": "28386b1d",
   "metadata": {},
   "outputs": [],
   "source": []
  }
 ],
 "metadata": {
  "kernelspec": {
   "display_name": "Python 3 (ipykernel)",
   "language": "python",
   "name": "python3"
  },
  "language_info": {
   "codemirror_mode": {
    "name": "ipython",
    "version": 3
   },
   "file_extension": ".py",
   "mimetype": "text/x-python",
   "name": "python",
   "nbconvert_exporter": "python",
   "pygments_lexer": "ipython3",
   "version": "3.10.9"
  }
 },
 "nbformat": 4,
 "nbformat_minor": 5
}
