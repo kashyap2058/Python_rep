{
 "cells": [
  {
   "cell_type": "code",
   "execution_count": 1,
   "id": "7d106e08",
   "metadata": {},
   "outputs": [],
   "source": [
    "# #while loop\n",
    "# while (condition):\n",
    "#     operation"
   ]
  },
  {
   "cell_type": "code",
   "execution_count": 2,
   "id": "5e5abecf",
   "metadata": {},
   "outputs": [
    {
     "name": "stdout",
     "output_type": "stream",
     "text": [
      "1 Hello world\n",
      "2 Hello world\n",
      "3 Hello world\n",
      "4 Hello world\n",
      "5 Hello world\n"
     ]
    }
   ],
   "source": [
    "a=1\n",
    "while a<=5:\n",
    "    print(a,'Hello world')\n",
    "    a+=1"
   ]
  },
  {
   "cell_type": "code",
   "execution_count": 4,
   "id": "96a7e746",
   "metadata": {},
   "outputs": [
    {
     "name": "stdout",
     "output_type": "stream",
     "text": [
      "Enter a number 50\n",
      "The multiplication table of  50  is \n",
      "50 x 1 = 50\n",
      "50 x 2 = 100\n",
      "50 x 3 = 150\n",
      "50 x 4 = 200\n",
      "50 x 5 = 250\n",
      "50 x 6 = 300\n",
      "50 x 7 = 350\n",
      "50 x 8 = 400\n",
      "50 x 9 = 450\n",
      "50 x 10 = 500\n"
     ]
    }
   ],
   "source": [
    "a=int(input(\"Enter a number \"))\n",
    "i=1\n",
    "print(\"The multiplication table of \", a ,\" is \")\n",
    "while i<=10:\n",
    "    print(a, 'x',i,'=', a*i)\n",
    "    i+=1"
   ]
  },
  {
   "cell_type": "code",
   "execution_count": null,
   "id": "1e4f7024",
   "metadata": {},
   "outputs": [],
   "source": [
    "n=int(input(\"Enter the number of values you want to enter \"))\n",
    "s=0\n",
    "i=0\n",
    "while i<n:\n",
    "    a=int(input(\"Enter a number \"))\n",
    "    s+=a\n",
    "    i+=1\n",
    "print(\"The sum of the entered numbers is \",s)"
   ]
  },
  {
   "cell_type": "code",
   "execution_count": null,
   "id": "b13e98da",
   "metadata": {},
   "outputs": [],
   "source": [
    "n=int(input(\"Enter how many values you want to enter \"))\n",
    "s= str()\n",
    "i=0 \n",
    "while i<n:\n",
    "    x = input(\"Enter name \")\n",
    "    ph=input(\"Enter phone \")\n",
    "    s=s+x+\" \"+ph+\"\\n\"\n",
    "    i+=1\n",
    "print(\"The sum is: \",s)"
   ]
  },
  {
   "cell_type": "code",
   "execution_count": null,
   "id": "69345ab2",
   "metadata": {},
   "outputs": [],
   "source": [
    "# Control statements \n",
    "# break \n",
    "# continue\n",
    "# pass"
   ]
  },
  {
   "cell_type": "code",
   "execution_count": null,
   "id": "f5e17974",
   "metadata": {},
   "outputs": [],
   "source": [
    "a=\"Hello world I am python. I am the best\"\n",
    "for i in a:\n",
    "    if i=='.':\n",
    "        break\n",
    "    print(i,end='')"
   ]
  },
  {
   "cell_type": "code",
   "execution_count": null,
   "id": "bb5a52e0",
   "metadata": {},
   "outputs": [],
   "source": [
    "# pass \n",
    "# yesle chai does nothing. In case of some modules which are not fixed then in this case to make the module syntatically correct but to not asign any functios in it we use pass\n",
    "a= 5\n",
    "if a<6:\n",
    "    pass"
   ]
  },
  {
   "cell_type": "code",
   "execution_count": null,
   "id": "3e42f5e2",
   "metadata": {},
   "outputs": [],
   "source": [
    "import random\n",
    "print(random.randint(0,100))"
   ]
  },
  {
   "cell_type": "code",
   "execution_count": 1,
   "id": "53c44180",
   "metadata": {},
   "outputs": [
    {
     "name": "stdout",
     "output_type": "stream",
     "text": [
      "0\n",
      "1\n",
      "2\n"
     ]
    }
   ],
   "source": [
    "a=0\n",
    "while a<5:\n",
    "    if a >=3:\n",
    "        a+=1\n",
    "        continue\n",
    "    \n",
    "    print(a)\n",
    "    a+=1"
   ]
  },
  {
   "cell_type": "code",
   "execution_count": 3,
   "id": "6782c098",
   "metadata": {},
   "outputs": [
    {
     "name": "stdout",
     "output_type": "stream",
     "text": [
      "Enter a number4\n",
      "Composite\n"
     ]
    }
   ],
   "source": [
    "# WAP to detect if the given numvber from user is prime or composite\n",
    "i = 0\n",
    "c=0\n",
    "n=int(input(\"Enter a number\"))\n",
    "while i<(n-1):\n",
    "    i+=1\n",
    "    if (n%i)==0:\n",
    "        c+=1\n",
    "if c<=1:\n",
    "    print(\"The number is prime \")\n",
    "else:\n",
    "    print(\"Composite\")\n"
   ]
  },
  {
   "cell_type": "code",
   "execution_count": null,
   "id": "17f42b3b",
   "metadata": {},
   "outputs": [],
   "source": []
  }
 ],
 "metadata": {
  "kernelspec": {
   "display_name": "Python 3 (ipykernel)",
   "language": "python",
   "name": "python3"
  },
  "language_info": {
   "codemirror_mode": {
    "name": "ipython",
    "version": 3
   },
   "file_extension": ".py",
   "mimetype": "text/x-python",
   "name": "python",
   "nbconvert_exporter": "python",
   "pygments_lexer": "ipython3",
   "version": "3.10.9"
  }
 },
 "nbformat": 4,
 "nbformat_minor": 5
}
