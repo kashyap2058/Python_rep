{
 "cells": [
  {
   "cell_type": "code",
   "execution_count": 1,
   "id": "7f4b5111",
   "metadata": {},
   "outputs": [],
   "source": [
    "# try:\n",
    "#     pass\n",
    "# except:\n",
    "#     pass"
   ]
  },
  {
   "cell_type": "code",
   "execution_count": 2,
   "id": "33cc2cd3",
   "metadata": {},
   "outputs": [
    {
     "name": "stdout",
     "output_type": "stream",
     "text": [
      "Enter age = 12\n"
     ]
    }
   ],
   "source": [
    "try: #yesma chai kun code ma error auna sakxa teslai halne ani tespaxi tesma error aayo vane except bock ma fyalxa ani except block execute hunxa\n",
    "    a=int(input(\"Enter age = \"))\n",
    "except:\n",
    "    print(\"Enter integer data\")"
   ]
  },
  {
   "cell_type": "code",
   "execution_count": 3,
   "id": "0045f126",
   "metadata": {},
   "outputs": [
    {
     "name": "stdout",
     "output_type": "stream",
     "text": [
      "Enter a = 12\n",
      "Enter b = r\n",
      " Value Error A and B must be an integer!!\n"
     ]
    }
   ],
   "source": [
    "#catching multiple types of errors and handling it\n",
    "try: \n",
    "    a=int(input(\"Enter a = \"))\n",
    "    b=int(input(\"Enter b = \"))\n",
    "    c=a/b\n",
    "    print(c)\n",
    "except ValueError: #yo block le chai value error lai herxa ( Kun error xa vanera tha pauna chai run garne error aune case ani tala k error vanera dekhauxa teslai nei milaune)\n",
    "    print(\" Value Error A and B must be an integer!!\")\n",
    "except ZeroDivisionError:\n",
    "    print(\"The value of B can't be 0\")"
   ]
  },
  {
   "cell_type": "code",
   "execution_count": 4,
   "id": "b4aef149",
   "metadata": {},
   "outputs": [
    {
     "name": "stdout",
     "output_type": "stream",
     "text": [
      "Enter a = 120\n",
      "Enter b = 0\n",
      "The value of B can't be 0\n"
     ]
    }
   ],
   "source": [
    "#raising exception manually\n",
    "try: \n",
    "    a=int(input(\"Enter a = \"))\n",
    "    b=int(input(\"Enter b = \"))\n",
    "    if b==0:\n",
    "        raise ZeroDivisionError #yesle chai b ko value 0 huna sath aafai error generate garxa\n",
    "    c=a/b\n",
    "    \n",
    "    print(c)\n",
    "except ValueError: \n",
    "    print(\" Value Error A and B must be an integer!!\")\n",
    "except ZeroDivisionError:\n",
    "    print(\"The value of B can't be 0\")"
   ]
  },
  {
   "cell_type": "code",
   "execution_count": 14,
   "id": "b8f610a4",
   "metadata": {},
   "outputs": [
    {
     "name": "stdout",
     "output_type": "stream",
     "text": [
      "Enter age = 20\n",
      "you are allowed \n"
     ]
    }
   ],
   "source": [
    "#asserting manually an error:\n",
    "# Yesma chai predefined exception haina user le define gareko exception raise garxa example: age under 18\n",
    "# try: \n",
    "#     a=int(input(\"Enter age = \"))\n",
    "#     if a<18:\n",
    "#         assert AgeError\n",
    "# except AgeError:\n",
    "#     print(\"You are under 18 and are not allowed\")\n",
    "\n",
    "\n",
    "# yesari chai garne ho\n",
    "try: \n",
    "    a=int(input(\"Enter age = \"))\n",
    "    assert a>=18 #age 18 vanda thulo xa vane error nikaldaina natra nikalxa\n",
    "    print(\"you are allowed \")\n",
    "except :\n",
    "    print(\"You are under 18 and are not allowed\")"
   ]
  },
  {
   "cell_type": "code",
   "execution_count": 9,
   "id": "8d94879b",
   "metadata": {},
   "outputs": [
    {
     "ename": "AssertionError",
     "evalue": "",
     "output_type": "error",
     "traceback": [
      "\u001b[1;31m---------------------------------------------------------------------------\u001b[0m",
      "\u001b[1;31mAssertionError\u001b[0m                            Traceback (most recent call last)",
      "Cell \u001b[1;32mIn[9], line 2\u001b[0m\n\u001b[0;32m      1\u001b[0m a\u001b[38;5;241m=\u001b[39m\u001b[38;5;241m1\u001b[39m\n\u001b[1;32m----> 2\u001b[0m \u001b[38;5;28;01massert\u001b[39;00m a\u001b[38;5;241m>\u001b[39m\u001b[38;5;241m2\u001b[39m\n",
      "\u001b[1;31mAssertionError\u001b[0m: "
     ]
    }
   ],
   "source": [
    "a=1\n",
    "assert a>2\n",
    "\n"
   ]
  },
  {
   "cell_type": "code",
   "execution_count": 13,
   "id": "860e9d18",
   "metadata": {},
   "outputs": [
    {
     "name": "stdout",
     "output_type": "stream",
     "text": [
      "Enter age = 20\n",
      "you are allowed \n"
     ]
    }
   ],
   "source": [
    "try: \n",
    "    a=int(input(\"Enter age = \"))\n",
    "    assert a>=18\n",
    "    print(\"you are allowed \")\n",
    "except AssertionError:\n",
    "    print(\"You are under 18 and are not allowed\")\n",
    "except ValueError:\n",
    "    print(\"Value error\")"
   ]
  },
  {
   "cell_type": "code",
   "execution_count": 4,
   "id": "ae27715d",
   "metadata": {},
   "outputs": [
    {
     "name": "stdout",
     "output_type": "stream",
     "text": [
      "Enter username admin\n",
      "Enter password admin\n",
      "username and passsword are valid\n",
      "Admin you are logged in\n",
      "Enter username haha\n",
      "Enter password haha\n",
      "username and password not matching\n"
     ]
    }
   ],
   "source": [
    "#login system\n",
    "username='admin'\n",
    "password='admin'\n",
    "u=input(\"Enter username \")\n",
    "pwd=input(\"Enter password \")\n",
    "try:\n",
    "    assert (u==username) and (pwd==password)\n",
    "    print(\"username and passsword are valid\")\n",
    "    \n",
    "except AssertionError:\n",
    "    print(\"username and password not matching\")\n",
    "else: #try block ma error aayena vane yo chalxa\n",
    "    print(\"Admin you are logged in\")\n",
    "    \n",
    "    \n",
    "#alternative way\n",
    "#login system\n",
    "username='admin'\n",
    "password='admin'\n",
    "u=input(\"Enter username \")\n",
    "pwd=input(\"Enter password \")\n",
    "try:\n",
    "    assert (u==username) and (pwd==password)\n",
    "    \n",
    "except AssertionError:\n",
    "    print(\"username and password not matching\")\n",
    "else: #try block ma error aayena vane yo chalxa\n",
    "    print(\"Admin you are logged in\")\n",
    "    "
   ]
  },
  {
   "cell_type": "code",
   "execution_count": 12,
   "id": "83ae610a",
   "metadata": {},
   "outputs": [
    {
     "name": "stdout",
     "output_type": "stream",
     "text": [
      "Enter username haha\n",
      "Enter password haha\n",
      "username and password not matching\n",
      "Enter username kashyap\n",
      "Enter password jhss\n",
      "username and password not matching\n",
      "Enter username admin admin\n",
      "Enter password j\n",
      "username and password not matching\n",
      "Enter username admin\n",
      "Enter password admin\n",
      "Admin you are logged in and it took you 4 attempts \n"
     ]
    }
   ],
   "source": [
    "#same code in function ie sahi value nahale samma login gagrirakhxa\n",
    "username='admin'\n",
    "password='admin'\n",
    "count=1\n",
    "def login():\n",
    "    global count\n",
    "    u=input(\"Enter username \")\n",
    "    pwd=input(\"Enter password \")\n",
    "    try:\n",
    "        assert (u==username) and (pwd==password)\n",
    "\n",
    "    except AssertionError:\n",
    "        print(\"username and password not matching\")\n",
    "        count+=1\n",
    "        login()\n",
    "    else: #try block ma error aayena vane yo chalxa\n",
    "        print(f\"Admin you are logged in and it took you {count} attempts \")\n",
    "        \n",
    "login()"
   ]
  },
  {
   "cell_type": "code",
   "execution_count": null,
   "id": "cc6a2d8c",
   "metadata": {},
   "outputs": [],
   "source": []
  }
 ],
 "metadata": {
  "kernelspec": {
   "display_name": "Python 3 (ipykernel)",
   "language": "python",
   "name": "python3"
  },
  "language_info": {
   "codemirror_mode": {
    "name": "ipython",
    "version": 3
   },
   "file_extension": ".py",
   "mimetype": "text/x-python",
   "name": "python",
   "nbconvert_exporter": "python",
   "pygments_lexer": "ipython3",
   "version": "3.10.9"
  }
 },
 "nbformat": 4,
 "nbformat_minor": 5
}
