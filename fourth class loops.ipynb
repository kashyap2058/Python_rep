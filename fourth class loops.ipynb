{
 "cells": [
  {
   "cell_type": "code",
   "execution_count": 1,
   "id": "6948c1b0",
   "metadata": {},
   "outputs": [],
   "source": [
    "# range(5) number chai 0 dekhi 4 samma janxa\n",
    "# range(1,5) 1 bata start garxa and goes till 4 ie 5 cahai include hudaina\n",
    "# range(1,10,2) 1 bata 9 samma janxa but 2 ko gap ma "
   ]
  },
  {
   "cell_type": "code",
   "execution_count": 2,
   "id": "2fcef749",
   "metadata": {},
   "outputs": [
    {
     "name": "stdout",
     "output_type": "stream",
     "text": [
      "0 1 2 3 4 "
     ]
    }
   ],
   "source": [
    "# for loop\n",
    "for i in range(5):\n",
    "    print(i, end =' ')\n",
    "    "
   ]
  },
  {
   "cell_type": "code",
   "execution_count": 3,
   "id": "70475145",
   "metadata": {},
   "outputs": [
    {
     "name": "stdout",
     "output_type": "stream",
     "text": [
      "1\n",
      "2\n",
      "3\n",
      "4\n"
     ]
    }
   ],
   "source": [
    "for i in range(1,5):\n",
    "    print(i)\n",
    "    "
   ]
  },
  {
   "cell_type": "code",
   "execution_count": 4,
   "id": "46651cae",
   "metadata": {},
   "outputs": [
    {
     "name": "stdout",
     "output_type": "stream",
     "text": [
      "1 3 5 7 9 "
     ]
    }
   ],
   "source": [
    "for i in range(1,10,2):\n",
    "    print(i, end =' ')\n",
    "    "
   ]
  },
  {
   "cell_type": "code",
   "execution_count": 5,
   "id": "64d42c79",
   "metadata": {},
   "outputs": [
    {
     "name": "stdout",
     "output_type": "stream",
     "text": [
      "5 4 3 2 1 "
     ]
    }
   ],
   "source": [
    "# Yo chai decrement garda chainxa\n",
    "for i in range(5,0,-1): #range ma chai hamile float halna mildaina\n",
    "    \n",
    "    print(i,end=\" \")\n",
    "    "
   ]
  },
  {
   "cell_type": "code",
   "execution_count": 6,
   "id": "4a3de1d7",
   "metadata": {},
   "outputs": [
    {
     "name": "stdout",
     "output_type": "stream",
     "text": [
      "Enter the value of n 5\n",
      "The multiplication table of  5  is \n",
      "5 x 1 = 5\n",
      "5 x 2 = 10\n",
      "5 x 3 = 15\n",
      "5 x 4 = 20\n",
      "5 x 5 = 25\n",
      "5 x 6 = 30\n",
      "5 x 7 = 35\n",
      "5 x 8 = 40\n",
      "5 x 9 = 45\n",
      "5 x 10 = 50\n"
     ]
    }
   ],
   "source": [
    "# Multipliaction table\n",
    "n=int(input(\"Enter the value of n \"))\n",
    "print(\"The multiplication table of \", n ,\" is \")\n",
    "for i in range(1,11):\n",
    "    print(n, 'x',i,'=', n*i)"
   ]
  },
  {
   "cell_type": "code",
   "execution_count": 8,
   "id": "fe40c20e",
   "metadata": {},
   "outputs": [
    {
     "name": "stdout",
     "output_type": "stream",
     "text": [
      "Enter how many values you want to enter 5\n",
      "Enter your value 10\n",
      "Enter your value 100\n",
      "Enter your value 45\n",
      "Enter your value 39\n",
      "Enter your value 66\n",
      "The sum is:  260\n"
     ]
    }
   ],
   "source": [
    "#sum of n no of values taken from user:\n",
    "n=int(input(\"Enter how many values you want to enter \"))\n",
    "s=0\n",
    "for i in range(n):\n",
    "    x = int(input(\"Enter your value \"))\n",
    "    s+=x\n",
    "print(\"The sum is: \",s)"
   ]
  },
  {
   "cell_type": "code",
   "execution_count": 16,
   "id": "d69faf0f",
   "metadata": {},
   "outputs": [
    {
     "name": "stdout",
     "output_type": "stream",
     "text": [
      "Enter how many values you want to enter 5\n",
      "Enter your value lsls\n",
      "Enter your value lasksaf\n",
      "Enter your value hfciash\n",
      "Enter your value hudf\n",
      "Enter your value hsdf\n",
      "The sum is:  lsls lasksaf hfciash hudf hsdf \n"
     ]
    }
   ],
   "source": [
    "n=int(input(\"Enter how many values you want to enter \"))\n",
    "s= str() # or s=\"\" yo chai empty string initialize garda\n",
    "for i in range(n):\n",
    "    x = input(\"Enter your value \")\n",
    "    s=s+x+\" \"\n",
    "print(\"The sum is: \",s)"
   ]
  },
  {
   "cell_type": "code",
   "execution_count": 18,
   "id": "d60e6666",
   "metadata": {},
   "outputs": [
    {
     "name": "stdout",
     "output_type": "stream",
     "text": [
      "Enter how many values you want to enter 2\n",
      "Enter name ram\n",
      "Enter phone9841986875\n",
      "Enter name hari\n",
      "Enter phone97862938r7'\n",
      "The sum is:  ram 9841986875\n",
      "hari 97862938r7'\n",
      "\n"
     ]
    }
   ],
   "source": [
    "n=int(input(\"Enter how many values you want to enter \"))\n",
    "s= str() # or s=\"\" yo chai empty string initialize garda\n",
    "for i in range(n):\n",
    "    x = input(\"Enter name \")\n",
    "    ph=input(\"Enter phone \")\n",
    "    s=s+x+\" \"+ph+\"\\n\"\n",
    "print(\"The sum is: \",s)"
   ]
  },
  {
   "cell_type": "code",
   "execution_count": 28,
   "id": "66cb9b6b",
   "metadata": {},
   "outputs": [
    {
     "name": "stdout",
     "output_type": "stream",
     "text": [
      "Enter a number -1\n",
      "Negative number (can't find factorial)\n"
     ]
    }
   ],
   "source": [
    "# fact\n",
    "n= int(input(\"Enter a number \"))\n",
    "fact=1\n",
    "if n ==0:\n",
    "    fact=1\n",
    "    print(\"The factorial is \",fact)\n",
    "elif n<0: \n",
    "    print(\"Negative number (can't find factorial)\")\n",
    "else:\n",
    "    \n",
    "    for i in range(1,n+1):\n",
    "        fact*=i\n",
    "    print(\"The factorial is \",fact)"
   ]
  },
  {
   "cell_type": "code",
   "execution_count": 4,
   "id": "02553e80",
   "metadata": {},
   "outputs": [
    {
     "name": "stdout",
     "output_type": "stream",
     "text": [
      "P\n",
      "y\n",
      "t\n",
      "h\n",
      "o\n",
      "n\n"
     ]
    }
   ],
   "source": [
    "#for loop in string\n",
    "a='Python'\n",
    "for i in a:\n",
    "    print(i)"
   ]
  },
  {
   "cell_type": "code",
   "execution_count": 8,
   "id": "b05b62a0",
   "metadata": {},
   "outputs": [
    {
     "name": "stdout",
     "output_type": "stream",
     "text": [
      "Hello world I am Python I am best"
     ]
    }
   ],
   "source": [
    "a=\"Hello world I am Python. I am best\"\n",
    "for i in a:\n",
    "    if i!=\".\":\n",
    "        print(i, end =\"\")"
   ]
  },
  {
   "cell_type": "code",
   "execution_count": null,
   "id": "2c9f7064",
   "metadata": {},
   "outputs": [],
   "source": []
  }
 ],
 "metadata": {
  "kernelspec": {
   "display_name": "Python 3 (ipykernel)",
   "language": "python",
   "name": "python3"
  },
  "language_info": {
   "codemirror_mode": {
    "name": "ipython",
    "version": 3
   },
   "file_extension": ".py",
   "mimetype": "text/x-python",
   "name": "python",
   "nbconvert_exporter": "python",
   "pygments_lexer": "ipython3",
   "version": "3.10.9"
  }
 },
 "nbformat": 4,
 "nbformat_minor": 5
}
