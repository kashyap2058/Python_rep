{
 "cells": [
  {
   "cell_type": "code",
   "execution_count": 1,
   "id": "a92a4f8e",
   "metadata": {},
   "outputs": [],
   "source": [
    "# dictionary \n",
    "# syntax: \n",
    "# dictionary ={<key>:<value>,<key>:<value>,......}"
   ]
  },
  {
   "cell_type": "code",
   "execution_count": 4,
   "id": "aca1a771",
   "metadata": {},
   "outputs": [
    {
     "name": "stdout",
     "output_type": "stream",
     "text": [
      "{'a': 'Apple', 'b': 'ball', 'c': 'cat', 'd': 'Dog'}\n",
      "<class 'dict'>\n",
      "Apple\n"
     ]
    }
   ],
   "source": [
    "d= { 'a':'Apple',\n",
    "   'b':'ball',\n",
    "   'c':'cat',\n",
    "   'd':'Dog'}\n",
    "print(d)\n",
    "print(type(d))\n",
    "print(d['a'])"
   ]
  },
  {
   "cell_type": "code",
   "execution_count": null,
   "id": "18500821",
   "metadata": {},
   "outputs": [],
   "source": []
  },
  {
   "cell_type": "code",
   "execution_count": 5,
   "id": "79e1f621",
   "metadata": {},
   "outputs": [
    {
     "name": "stdout",
     "output_type": "stream",
     "text": [
      "{'a': 'Hahaha', 'b': 'ball', 'c': 'cat', 'd': 'Dog'}\n"
     ]
    }
   ],
   "source": [
    "d= { 'a':'Apple',\n",
    "   'b':'ball',\n",
    "   'c':'cat',\n",
    "   'd':'Dog',\n",
    "   'a':'Hahaha'} #Last ko value le chai overwrite gardinxa\n",
    "print(d)"
   ]
  },
  {
   "cell_type": "code",
   "execution_count": 7,
   "id": "f50b76a7",
   "metadata": {},
   "outputs": [
    {
     "name": "stdout",
     "output_type": "stream",
     "text": [
      "{'a': 'Apple', 'b': 'Goat', 'c': 'Cow'}\n"
     ]
    }
   ],
   "source": [
    "d={}\n",
    "d['a']='Apple'\n",
    "d['b']='Goat'\n",
    "d['c']='Cow'\n",
    "print(d)"
   ]
  },
  {
   "cell_type": "code",
   "execution_count": 8,
   "id": "163ebe7a",
   "metadata": {},
   "outputs": [
    {
     "name": "stdout",
     "output_type": "stream",
     "text": [
      "Enter n 3\n",
      "Enter name ram\n",
      "Enter phone 987q38r73\n",
      "Enter name Hari\n",
      "Enter phone 9841726739\n",
      "Enter name Shyam\n",
      "Enter phone 9817280128\n",
      "{'ram': '987q38r73', 'Hari': '9841726739', 'Shyam': '9817280128'}\n"
     ]
    }
   ],
   "source": [
    "# WAP to create a dictionary taking name and phone as inputs from user\n",
    "d={}\n",
    "n=int(input(\"Enter n \"))\n",
    "for i in range(n):\n",
    "    name=input(\"Enter name \")\n",
    "    phone=input(\"Enter phone \")\n",
    "    d[name]=phone\n",
    "print(d)"
   ]
  },
  {
   "cell_type": "code",
   "execution_count": 11,
   "id": "2a151574",
   "metadata": {},
   "outputs": [
    {
     "name": "stdout",
     "output_type": "stream",
     "text": [
      "ram\n",
      "Hari\n",
      "Shyam\n",
      "987q38r73\n",
      "9841726739\n",
      "9817280128\n"
     ]
    }
   ],
   "source": [
    "d={'ram': '987q38r73', 'Hari': '9841726739', 'Shyam': '9817280128'}\n",
    "for i in d:\n",
    "    print(i) #prints keys\n",
    "for j in d.values():#print values\n",
    "    print(j)"
   ]
  },
  {
   "cell_type": "code",
   "execution_count": 13,
   "id": "e1c6cc73",
   "metadata": {},
   "outputs": [
    {
     "name": "stdout",
     "output_type": "stream",
     "text": [
      "('ram', '987q38r73')\n",
      "('Hari', '9841726739')\n",
      "('Shyam', '9817280128')\n"
     ]
    }
   ],
   "source": [
    "d={'ram': '987q38r73', 'Hari': '9841726739', 'Shyam': '9817280128'}\n",
    "for i in d.items():  #gives key value pair\n",
    "    print(i)  "
   ]
  },
  {
   "cell_type": "code",
   "execution_count": 18,
   "id": "a0151d34",
   "metadata": {},
   "outputs": [
    {
     "name": "stdout",
     "output_type": "stream",
     "text": [
      "{'Hari': '9841726739', 'Shyam': '9817280128'}\n"
     ]
    }
   ],
   "source": [
    "# Remove/delete key value pairs we use delete del ,pop()\n",
    "d={'ram': '987q38r73', 'Hari': '9841726739', 'Shyam': '9817280128'}\n",
    "del d['ram']\n",
    "print(d)"
   ]
  },
  {
   "cell_type": "code",
   "execution_count": 20,
   "id": "cc2ca7c4",
   "metadata": {},
   "outputs": [
    {
     "name": "stdout",
     "output_type": "stream",
     "text": [
      "987q38r73\n"
     ]
    }
   ],
   "source": [
    "d={'ram': '987q38r73', 'Hari': '9841726739', 'Shyam': '9817280128'}\n",
    "e=d.pop('ram')\n",
    "print(e)"
   ]
  },
  {
   "cell_type": "code",
   "execution_count": 23,
   "id": "a004f499",
   "metadata": {},
   "outputs": [
    {
     "name": "stdout",
     "output_type": "stream",
     "text": [
      "{'a': ['Kashyap', 20, '9841987869'], 'hari': '9867217687'}\n",
      "Kashyap\n"
     ]
    }
   ],
   "source": [
    "#multivalued dictionaries: for this we use lists inside dictionary\n",
    "d={'a':['Kashyap',20,'9841987869'],'hari':'9867217687'}\n",
    "print(d)\n",
    "print(d['a'][0])\n"
   ]
  },
  {
   "cell_type": "code",
   "execution_count": 25,
   "id": "f6bd025f",
   "metadata": {},
   "outputs": [
    {
     "name": "stdout",
     "output_type": "stream",
     "text": [
      "Enter n: 2\n",
      "Enter name ram\n",
      "Enter ntc phone 9814561516\n",
      "Enter ncell phone 56432186141\n",
      "Enter name dinesh\n",
      "Enter ntc phone 3541531322\n",
      "Enter ncell phone 3135145213\n",
      "{'ram': ['9814561516', '56432186141'], 'dinesh': ['3541531322', '3135145213']}\n"
     ]
    }
   ],
   "source": [
    "# user saga magera dictionary banaune\n",
    "d={}\n",
    "n=int(input(\"Enter n: \"))\n",
    "for i in range(n):\n",
    "    a=input(\"Enter name \")\n",
    "    ntc=input(\"Enter ntc phone \")\n",
    "    ncell=input(\"Enter ncell phone \")\n",
    "    d[a]=[ntc,ncell]\n",
    "print(d)"
   ]
  },
  {
   "cell_type": "code",
   "execution_count": 31,
   "id": "45750515",
   "metadata": {},
   "outputs": [
    {
     "name": "stdout",
     "output_type": "stream",
     "text": [
      "Enter n: 2\n",
      "Enter name ram\n",
      "Enter age 23\n",
      "Enter address kapan\n",
      "Enter name hari\n",
      "Enter age 25\n",
      "Enter address Dhapakhel\n",
      "{'name': ['ram', 'hari'], 'age': [23, 25], 'add': ['kapan', 'Dhapakhel']}\n"
     ]
    }
   ],
   "source": [
    "#categorize names into a single list, age into single, address into single lists\n",
    "d={'name':[],\n",
    "   'age':[],\n",
    "   'add':[]}\n",
    "n=int(input(\"Enter n: \"))\n",
    "for i in range(n):\n",
    "    a=input(\"Enter name \")\n",
    "    b=int(input(\"Enter age \"))\n",
    "    c=input('Enter address ')\n",
    "    d['name'].append(a)\n",
    "    d['age'].append(b)\n",
    "    d['add'].append(c)\n",
    "print(d)"
   ]
  },
  {
   "cell_type": "code",
   "execution_count": 33,
   "id": "aa3babcd",
   "metadata": {},
   "outputs": [
    {
     "name": "stdout",
     "output_type": "stream",
     "text": [
      "The ntc number of ram is  56432186141\n",
      "The Ncell number of Dinesh is  3541531322\n"
     ]
    }
   ],
   "source": [
    "d={'ram': ['9814561516', '56432186141'], 'dinesh': ['3541531322', '3135145213']}\n",
    "print(\"The ntc number of ram is \",d['ram'][1])\n",
    "print(\"The Ncell number of Dinesh is \",d['dinesh'][0])"
   ]
  },
  {
   "cell_type": "code",
   "execution_count": 36,
   "id": "e1ffbed0",
   "metadata": {},
   "outputs": [
    {
     "name": "stdout",
     "output_type": "stream",
     "text": [
      "ram 23 kapan\n",
      "hari 25 Dhapakhel\n"
     ]
    }
   ],
   "source": [
    "d={'name': ['ram', 'hari'], 'age': [23, 25], 'add': ['kapan', 'Dhapakhel']}\n",
    "for i in range(2):\n",
    "    \n",
    "    print(d['name'][i],d['age'][i],d['add'][i])"
   ]
  },
  {
   "cell_type": "code",
   "execution_count": 40,
   "id": "3aa1a92e",
   "metadata": {},
   "outputs": [
    {
     "data": {
      "text/plain": [
       "{'ram': '9876828734',\n",
       " 'Hari': '9841726739',\n",
       " 'Shyam': '9817280128',\n",
       " 'dict': {'a': 'Apple', 'b': 'ball', 'c': 'cat', 'd': 'Dog'}}"
      ]
     },
     "execution_count": 40,
     "metadata": {},
     "output_type": "execute_result"
    }
   ],
   "source": [
    "#dictonary into dictionary \n",
    "d={'ram': '9876828734', 'Hari': '9841726739', 'Shyam': '9817280128','dict':{ 'a':'Apple',\n",
    "   'b':'ball',\n",
    "   'c':'cat',\n",
    "   'd':'Dog'}}\n",
    "d\n",
    "print(d)\n",
    "print(d['dict']['a'])"
   ]
  },
  {
   "cell_type": "code",
   "execution_count": 41,
   "id": "a8161682",
   "metadata": {},
   "outputs": [
    {
     "name": "stdout",
     "output_type": "stream",
     "text": [
      "Enter n: 3\n",
      "Enter name kashyap\n",
      "Enter age 21\n",
      "Enter address Kapan\n",
      "Enter name aliz\n",
      "Enter age 21\n",
      "Enter address kapan\n",
      "Enter name Ram\n",
      "Enter age 1000\n",
      "Enter address Ayodhya\n",
      "{1: {'name': 'kashyap', 'age': 21, 'add': 'Kapan'}, 2: {'name': 'aliz', 'age': 21, 'add': 'kapan'}, 3: {'name': 'Ram', 'age': 1000, 'add': 'Ayodhya'}}\n"
     ]
    }
   ],
   "source": [
    "d={}\n",
    "n=int(input(\"Enter n: \"))\n",
    "for i in range(n):\n",
    "    a=input(\"Enter name \")\n",
    "    b=int(input(\"Enter age \"))\n",
    "    c=input('Enter address ')\n",
    "    d[i+1]={'name':a,'age':b,'add':c}\n",
    "print(d)"
   ]
  },
  {
   "cell_type": "code",
   "execution_count": null,
   "id": "69820e1f",
   "metadata": {},
   "outputs": [],
   "source": []
  }
 ],
 "metadata": {
  "kernelspec": {
   "display_name": "Python 3 (ipykernel)",
   "language": "python",
   "name": "python3"
  },
  "language_info": {
   "codemirror_mode": {
    "name": "ipython",
    "version": 3
   },
   "file_extension": ".py",
   "mimetype": "text/x-python",
   "name": "python",
   "nbconvert_exporter": "python",
   "pygments_lexer": "ipython3",
   "version": "3.10.9"
  }
 },
 "nbformat": 4,
 "nbformat_minor": 5
}
