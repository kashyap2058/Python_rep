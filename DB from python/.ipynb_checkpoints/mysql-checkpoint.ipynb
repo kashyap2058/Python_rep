{
 "cells": [
  {
   "cell_type": "code",
   "execution_count": 5,
   "id": "4da9b657",
   "metadata": {},
   "outputs": [
    {
     "name": "stdout",
     "output_type": "stream",
     "text": [
      "Requirement already satisfied: mysql-connector in c:\\annaconda\\lib\\site-packages (2.2.9)\n"
     ]
    }
   ],
   "source": [
    "!pip install mysql-connector"
   ]
  },
  {
   "cell_type": "code",
   "execution_count": 11,
   "id": "a473d819",
   "metadata": {},
   "outputs": [],
   "source": [
    "import mysql.connector\n",
    "#importing database\n",
    "database=mysql.connector.connect(  #creating a sql connection \n",
    "host='localhost',\n",
    "user='root',\n",
    "password='',\n",
    "database='python_db') #db name)\n",
    "db=database.cursor()"
   ]
  },
  {
   "cell_type": "code",
   "execution_count": 5,
   "id": "a18c2ad0",
   "metadata": {},
   "outputs": [
    {
     "name": "stdout",
     "output_type": "stream",
     "text": [
      "(1, 'Kashyap', 75.0, 75.0, 70.0, 62.5, 4.0)\n",
      "(2, 'ram', 30.0, 15.0, 80.0, 65.0, 2.4)\n",
      "(3, 'Hari', 50.0, 15.0, 80.0, 65.0, 3.4)\n",
      "(4, 'sita', 80.0, 70.0, 100.0, 70.0, 4.0)\n"
     ]
    }
   ],
   "source": [
    "db.execute(\"SELECT * FROM student\")\n",
    "result=db.fetchall()\n",
    "for x in result:\n",
    "    print(x)"
   ]
  },
  {
   "cell_type": "code",
   "execution_count": 7,
   "id": "1b8196ca",
   "metadata": {},
   "outputs": [
    {
     "name": "stdout",
     "output_type": "stream",
     "text": [
      "('ram',)\n",
      "('Hari',)\n",
      "('sita',)\n"
     ]
    }
   ],
   "source": [
    "db.execute(\"SELECT name FROM student WHERE math >= 80\") #yesto vitra sql query halne\n",
    "data=db.fetchall()\n",
    "for y in data:\n",
    "    print(y)"
   ]
  },
  {
   "cell_type": "code",
   "execution_count": 13,
   "id": "f7482115",
   "metadata": {},
   "outputs": [],
   "source": [
    "# Data insert  into database\n",
    "db.execute(\"INSERT INTO `student` (`SN`, `name`, `physics`, `chemistry`, `math`, `english`, `grade`) VALUES (NULL, 'Deepak', '92', '100', '81', '22', '3.4');\")\n",
    "database.commit() #insert gareko values lai save garna ko lai yo kaam lagxa"
   ]
  },
  {
   "cell_type": "code",
   "execution_count": 14,
   "id": "15ec008d",
   "metadata": {},
   "outputs": [
    {
     "name": "stdout",
     "output_type": "stream",
     "text": [
      "(1, 'Kashyap', 75.0, 75.0, 70.0, 62.5, 4.0)\n",
      "(2, 'ram', 30.0, 15.0, 80.0, 65.0, 2.4)\n",
      "(3, 'Hari', 50.0, 15.0, 80.0, 65.0, 3.4)\n",
      "(4, 'sita', 80.0, 70.0, 100.0, 70.0, 4.0)\n",
      "(5, 'Kamala', 25.0, 100.0, 81.0, 22.0, 3.1)\n",
      "(7, 'Deepak', 92.0, 100.0, 81.0, 22.0, 3.4)\n"
     ]
    }
   ],
   "source": [
    "db.execute(\"SELECT * FROM student\")\n",
    "result=db.fetchall()\n",
    "for x in result:\n",
    "    print(x)"
   ]
  },
  {
   "cell_type": "code",
   "execution_count": 15,
   "id": "b44f839c",
   "metadata": {},
   "outputs": [
    {
     "name": "stdout",
     "output_type": "stream",
     "text": [
      "(1, 'Kashyap', 75.0, 75.0, 70.0, 62.5, 4.0)\n",
      "(2, 'ram', 30.0, 15.0, 80.0, 65.0, 2.4)\n",
      "(3, 'Hari', 50.0, 15.0, 80.0, 65.0, 3.4)\n",
      "(4, 'sita', 80.0, 70.0, 100.0, 70.0, 4.0)\n",
      "(5, 'Kamala', 25.0, 100.0, 81.0, 22.0, 3.1)\n",
      "(7, 'Deepak', 92.0, 100.0, 81.0, 22.0, 3.4)\n"
     ]
    }
   ],
   "source": [
    "db.execute(\"SELECT * FROM student\")\n",
    "result=db.fetchall()\n",
    "for y in result:\n",
    "    print(y)"
   ]
  },
  {
   "cell_type": "code",
   "execution_count": 22,
   "id": "29963a7b",
   "metadata": {},
   "outputs": [
    {
     "name": "stdout",
     "output_type": "stream",
     "text": [
      "Enter name\t50\n",
      "Enter marks in physics 50\n",
      "Enter chemistry marks 50\n",
      "Enter  math marks 50\n",
      "Enter english marks 50\n",
      "Total:\t 200.0 \t\tPercentage:\t 50.0\n"
     ]
    }
   ],
   "source": [
    "name=input(\"Enter name\\t\")\n",
    "phy=float(input(\"Enter marks in physics \"))\n",
    "chem=float(input(\"Enter chemistry marks \"))\n",
    "math=float(input(\"Enter  math marks \"))\n",
    "eng=float(input(\"Enter english marks \"))\n",
    "if phy <32 or chem<32 or math<32 or eng<32:\n",
    "    grade = 0.0\n",
    "    \n",
    "    total=phy+math+chem+eng\n",
    "    per=0\n",
    "    print(\"Total:\\t\",total,\"\\t\\tPercentage:\\t\",per)\n",
    "    \n",
    "else:\n",
    "    total=phy+math+chem+eng\n",
    "    per=total/4\n",
    "    print(\"Total:\\t\",total,\"\\t\\tPercentage:\\t\",per)\n",
    "    if per >=80:\n",
    "        grade = 3.6\n",
    "    elif per>=70 or per<80:\n",
    "        grade=3.2\n",
    "    elif per>=60 or per<70:\n",
    "        grade=2.8\n",
    "    else:\n",
    "        grade = 1.6\n",
    "    \n",
    "db.execute(f'''INSERT INTO `student` (`name`, `physics`, `chemistry`, `math`, `english`, `grade`) VALUES ({name}, {phy}, {chem}, {math}, {eng}, {grade});''')\n",
    "database.commit()"
   ]
  },
  {
   "cell_type": "code",
   "execution_count": 23,
   "id": "16e0659f",
   "metadata": {},
   "outputs": [
    {
     "name": "stdout",
     "output_type": "stream",
     "text": [
      "(1, 'Kashyap', 75.0, 75.0, 70.0, 62.5, 4.0)\n",
      "(2, 'ram', 30.0, 15.0, 80.0, 65.0, 2.4)\n",
      "(3, 'Hari', 50.0, 15.0, 80.0, 65.0, 3.4)\n",
      "(4, 'sita', 80.0, 70.0, 100.0, 70.0, 4.0)\n",
      "(5, 'Kamala', 25.0, 100.0, 81.0, 22.0, 3.1)\n",
      "(7, 'Deepak', 92.0, 100.0, 81.0, 22.0, 3.4)\n",
      "(8, '50', 50.0, 50.0, 50.0, 50.0, 3.2)\n"
     ]
    }
   ],
   "source": [
    "db.execute(\"SELECT * FROM student\")\n",
    "result=db.fetchall()\n",
    "for y in result:\n",
    "    print(y)"
   ]
  },
  {
   "cell_type": "code",
   "execution_count": null,
   "id": "f27c0b4d",
   "metadata": {},
   "outputs": [],
   "source": []
  }
 ],
 "metadata": {
  "kernelspec": {
   "display_name": "Python 3 (ipykernel)",
   "language": "python",
   "name": "python3"
  },
  "language_info": {
   "codemirror_mode": {
    "name": "ipython",
    "version": 3
   },
   "file_extension": ".py",
   "mimetype": "text/x-python",
   "name": "python",
   "nbconvert_exporter": "python",
   "pygments_lexer": "ipython3",
   "version": "3.10.9"
  }
 },
 "nbformat": 4,
 "nbformat_minor": 5
}
