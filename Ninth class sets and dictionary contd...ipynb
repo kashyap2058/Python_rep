{
 "cells": [
  {
   "cell_type": "code",
   "execution_count": 1,
   "id": "532a74d8",
   "metadata": {},
   "outputs": [],
   "source": [
    "# Sets\n",
    "# no indexing\n",
    "# multiple but no duplicate data\n",
    "# unordered and mutable unordered vaneko chai value programmer le lekheko order ma hudaina \n",
    "# define garna curly bracket ma key value pair nagari sidhai value matra diyo vane sets \n",
    "# like: s={1,2,3,4,5,6}\n",
    "    "
   ]
  },
  {
   "cell_type": "code",
   "execution_count": 4,
   "id": "275ea7ac",
   "metadata": {},
   "outputs": [
    {
     "name": "stdout",
     "output_type": "stream",
     "text": [
      "{1, 2, 3, 4, 5, 6}\n",
      "{'Ball', 'Cat', 'Fish', 'Apple', 'Dog'}\n"
     ]
    },
    {
     "data": {
      "text/plain": [
       "{'Apple', 'Ball', 'Cat', 'Dog', 'Fish'}"
      ]
     },
     "execution_count": 4,
     "metadata": {},
     "output_type": "execute_result"
    }
   ],
   "source": [
    "s={1,2,3,4,5,6}\n",
    "a={'Apple','Ball','Cat','Dog','Fish'}\n",
    "print(s)\n",
    "print(a)\n",
    "a"
   ]
  },
  {
   "cell_type": "code",
   "execution_count": 3,
   "id": "502f50e8",
   "metadata": {},
   "outputs": [
    {
     "name": "stdout",
     "output_type": "stream",
     "text": [
      "{1, 2, 3, 4, 5, 6, 7}\n"
     ]
    }
   ],
   "source": [
    "s={1,2,1,2,4,5,7,6,3,4,5,6}#3duplicate values haru lai support gardaina \n",
    "print(s)"
   ]
  },
  {
   "cell_type": "code",
   "execution_count": null,
   "id": "7a7798e0",
   "metadata": {},
   "outputs": [],
   "source": [
    "# Data types inside sets\n",
    "# inside sets there should be no mutable data types like dictionary, lists, sets etc. Sets vitra only immutable data like integer,string,tuple etc\n"
   ]
  },
  {
   "cell_type": "code",
   "execution_count": 5,
   "id": "70f57075",
   "metadata": {},
   "outputs": [
    {
     "name": "stdout",
     "output_type": "stream",
     "text": [
      "Ball\n",
      "Cat\n",
      "Fish\n",
      "Apple\n",
      "Dog\n"
     ]
    }
   ],
   "source": [
    "# operators :\n",
    "# no + *  operations supported\n",
    "a={'Apple','Ball','Cat','Dog','Fish'}\n",
    "for i in a:\n",
    "    print(i) #Yesma i ko value apple ball garera order ma hunna"
   ]
  },
  {
   "cell_type": "code",
   "execution_count": 7,
   "id": "4763a973",
   "metadata": {},
   "outputs": [
    {
     "name": "stdout",
     "output_type": "stream",
     "text": [
      "{'World', 'Hello'}\n"
     ]
    }
   ],
   "source": [
    "#to concatinate sets we use add() function:\n",
    "a=set() #initialize set\n",
    "a.add(\"Hello\")\n",
    "a.add(\"World\")\n",
    "print(a)\n"
   ]
  },
  {
   "cell_type": "code",
   "execution_count": 8,
   "id": "8974a2db",
   "metadata": {},
   "outputs": [
    {
     "name": "stdout",
     "output_type": "stream",
     "text": [
      "{1, 'Ball', 2, 3, 4, 5, 'Cat', 'Fish', 6, 'Apple', 'Dog'}\n"
     ]
    }
   ],
   "source": [
    "s={1,2,3,4,5,6}\n",
    "a={'Apple','Ball','Cat','Dog','Fish'}\n",
    "a.update(s) #a ma chai b ko value update gardinxa\n",
    "print(a)"
   ]
  },
  {
   "cell_type": "code",
   "execution_count": 9,
   "id": "1ab60dbd",
   "metadata": {},
   "outputs": [
    {
     "name": "stdout",
     "output_type": "stream",
     "text": [
      "{'Ball', 'Cat', 'Fish', 'Dog'}\n"
     ]
    }
   ],
   "source": [
    "#remove value\n",
    "s={1,2,3,4,5,6}\n",
    "a={'Apple','Ball','Cat','Dog','Fish'}\n",
    "a.remove(\"Apple\")\n",
    "print(a)"
   ]
  },
  {
   "cell_type": "code",
   "execution_count": 13,
   "id": "6ebf2394",
   "metadata": {},
   "outputs": [
    {
     "name": "stdout",
     "output_type": "stream",
     "text": [
      "{'Johnny', 'Steve'}\n",
      "{'Johnny', 'Bill', 'Ram', 'Danny', 'Shyam', 'Aakash', 'Pathan', 'Steve'}\n",
      "students working only in Apple {'Pathan', 'Danny', 'Aakash'}\n",
      "students working only in Microsoft {'Ram', 'Bill', 'Shyam'}\n",
      "students who are unemployed  {'Hari', 'Ganesh', 'Gita'}\n"
     ]
    }
   ],
   "source": [
    "apple={\"Steve\",\"Danny\",\"Johnny\",\"Pathan\",\"Aakash\"}\n",
    "ms = {\"Ram\",\"Steve\",\"Johnny\",\"Shyam\",\"Bill\"}\n",
    "U={'Johnny', 'Bill', 'Ram', 'Danny', 'Shyam', 'Aakash', 'Pathan', 'Steve','Ganesh','Hari','Gita'} #universal set\n",
    "\n",
    "#intersection operations\n",
    "print(apple.intersection(ms))\n",
    "\n",
    "#union\n",
    "print(apple.union(ms))\n",
    "\n",
    "print(\"students working only in Apple\",apple-ms)\n",
    "print(\"students working only in Microsoft\",ms-apple)\n",
    "\n",
    "print(\"students who are unemployed \",U-apple.union(ms))"
   ]
  },
  {
   "cell_type": "code",
   "execution_count": 15,
   "id": "7318385d",
   "metadata": {},
   "outputs": [
    {
     "name": "stdout",
     "output_type": "stream",
     "text": [
      "True\n",
      "False\n",
      "False\n"
     ]
    }
   ],
   "source": [
    "#set concepts and functions that can be performed in sets\n",
    "\n",
    "a={1,2,3,4,5,6,7,8}\n",
    "b={3,4,5,6}\n",
    "print(a.issuperset(b)) #checks if a is superset of b\n",
    "print(a.issubset(b)) #checks if a is subset of b\n",
    "print(a.isdisjoint(b)) #checks if a and b are disjoint\n"
   ]
  },
  {
   "cell_type": "code",
   "execution_count": null,
   "id": "717266fc",
   "metadata": {},
   "outputs": [],
   "source": []
  }
 ],
 "metadata": {
  "kernelspec": {
   "display_name": "Python 3 (ipykernel)",
   "language": "python",
   "name": "python3"
  },
  "language_info": {
   "codemirror_mode": {
    "name": "ipython",
    "version": 3
   },
   "file_extension": ".py",
   "mimetype": "text/x-python",
   "name": "python",
   "nbconvert_exporter": "python",
   "pygments_lexer": "ipython3",
   "version": "3.10.9"
  }
 },
 "nbformat": 4,
 "nbformat_minor": 5
}
