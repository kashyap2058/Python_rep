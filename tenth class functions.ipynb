{
 "cells": [
  {
   "cell_type": "code",
   "execution_count": 1,
   "id": "89df88c0",
   "metadata": {},
   "outputs": [],
   "source": [
    "#functions \n",
    "# def <function name>():\n",
    "#     <Operations>"
   ]
  },
  {
   "cell_type": "code",
   "execution_count": 2,
   "id": "7335d0df",
   "metadata": {},
   "outputs": [
    {
     "name": "stdout",
     "output_type": "stream",
     "text": [
      "Hello from function\n"
     ]
    }
   ],
   "source": [
    "def hello():\n",
    "    print(\"Hello from function\")\n",
    "    \n",
    "hello()"
   ]
  },
  {
   "cell_type": "code",
   "execution_count": 3,
   "id": "4b4eebb5",
   "metadata": {},
   "outputs": [
    {
     "name": "stdout",
     "output_type": "stream",
     "text": [
      "Enter length 2\n",
      "Enter breadth 2\n",
      "Enter height 2\n",
      "The volume is  8.0\n",
      "10\n"
     ]
    }
   ],
   "source": [
    "def volume():\n",
    "    global g #g is global variable and can be accessed from anywhere \n",
    "    g=10\n",
    "    l=float(input(\"Enter length \")) #variables defined inside a function is called local variable\n",
    "    b=float(input(\"Enter breadth \"))\n",
    "    h=float(input(\"Enter height \"))\n",
    "    v=l*b*h\n",
    "    print(\"The volume is \",v)\n",
    "\n",
    "volume()\n",
    "print(g)"
   ]
  },
  {
   "cell_type": "code",
   "execution_count": 4,
   "id": "f4d7e470",
   "metadata": {},
   "outputs": [
    {
     "name": "stdout",
     "output_type": "stream",
     "text": [
      "Enter length 2\n",
      "Enter breadth 2\n",
      "Enter height 2\n",
      "The volume is  8.0\n"
     ]
    }
   ],
   "source": [
    "def volume(l,b,h): #function with argument and return type yeta ko l,b,h lai parameters vanxa \n",
    "    v=l*b*h\n",
    "    print(\"The volume is \",v)\n",
    "l=float(input(\"Enter length \")) #variables defined inside a function is called local variable\n",
    "b=float(input(\"Enter breadth \"))\n",
    "h=float(input(\"Enter height \"))\n",
    "volume(l,b,h) #yeta ko l,b,h lai arguments vanxa"
   ]
  },
  {
   "cell_type": "code",
   "execution_count": 5,
   "id": "cc5196d6",
   "metadata": {},
   "outputs": [
    {
     "name": "stdout",
     "output_type": "stream",
     "text": [
      "Enter length 2\n",
      "Enter breadth 2\n",
      "Enter height 2\n",
      "The volume is  8.0\n"
     ]
    }
   ],
   "source": [
    "def volume(x):  #yesari list lai ni pass garna milxa function ma\n",
    "    \n",
    "    v=x[0]*x[1]*x[2]\n",
    "    print(\"The volume is \",v)\n",
    "    \n",
    "    \n",
    "    \n",
    "l=float(input(\"Enter length \"))\n",
    "b=float(input(\"Enter breadth \"))\n",
    "h=float(input(\"Enter height \"))\n",
    "x=[l,b,h]\n",
    "volume(x) "
   ]
  },
  {
   "cell_type": "code",
   "execution_count": 6,
   "id": "38f5b479",
   "metadata": {},
   "outputs": [
    {
     "name": "stdout",
     "output_type": "stream",
     "text": [
      "python\n",
      "Kashyap\n",
      "Java\n"
     ]
    }
   ],
   "source": [
    "def information(info=\"python\"): #default arguments\n",
    "    print(info)\n",
    "    \n",
    "information()\n",
    "information(\"Kashyap\")\n",
    "information(\"Java\")"
   ]
  },
  {
   "cell_type": "code",
   "execution_count": 7,
   "id": "4d8717c7",
   "metadata": {},
   "outputs": [
    {
     "name": "stdout",
     "output_type": "stream",
     "text": [
      "HEllo world\n"
     ]
    }
   ],
   "source": [
    "#return type functions\n",
    "\n",
    "def hello():\n",
    "    return(\"HEllo world\")\n",
    "\n",
    "print(hello())"
   ]
  },
  {
   "cell_type": "code",
   "execution_count": 8,
   "id": "d431dd57",
   "metadata": {},
   "outputs": [
    {
     "name": "stdout",
     "output_type": "stream",
     "text": [
      "Enter length 2\n",
      "Enter breadth 2\n",
      "Enter height 2\n",
      "The volume is  8.0\n"
     ]
    }
   ],
   "source": [
    "def volume(l,b,h): #function with argument and return type yeta ko l,b,h lai parameters vanxa \n",
    "    v=l*b*h\n",
    "    return v\n",
    "l=float(input(\"Enter length \")) #variables defined inside a function is called local variable\n",
    "b=float(input(\"Enter breadth \"))\n",
    "h=float(input(\"Enter height \"))\n",
    "print(\"The volume is \",volume(l,b,h))"
   ]
  },
  {
   "cell_type": "code",
   "execution_count": 9,
   "id": "ccd44f7f",
   "metadata": {},
   "outputs": [
    {
     "name": "stdout",
     "output_type": "stream",
     "text": [
      "Enter length 23\n",
      "Enter breadth 2\n",
      "Enter height 2\n",
      "The volume is  92.0 The area is  46.0\n",
      "The area is  46.0 The volume is  92.0\n"
     ]
    }
   ],
   "source": [
    "def volume(l,b,h): #function with argument and return type yeta ko l,b,h lai parameters vanxa \n",
    "    v=l*b*h\n",
    "    a=l*b\n",
    "    return v,a\n",
    "l=float(input(\"Enter length \")) #variables defined inside a function is called local variable\n",
    "b=float(input(\"Enter breadth \"))\n",
    "h=float(input(\"Enter height \"))\n",
    "\n",
    "print(\"The volume is \",volume(l,b,h)[0],\"The area is \",volume(l,b,h)[1])\n",
    "# or \n",
    "vol,area=volume(l,b,h)\n",
    "print(\"The area is \",area,'The volume is ',vol)"
   ]
  },
  {
   "cell_type": "code",
   "execution_count": null,
   "id": "795b5525",
   "metadata": {},
   "outputs": [],
   "source": []
  },
  {
   "cell_type": "code",
   "execution_count": 10,
   "id": "c6dfc07a",
   "metadata": {},
   "outputs": [
    {
     "name": "stdout",
     "output_type": "stream",
     "text": [
      "Enter a number 2\n",
      "Enter b 2\n",
      "Enter an operator + or - or * or / -\n",
      "0\n"
     ]
    }
   ],
   "source": [
    "# calculator using function\n",
    "def add(a,b):\n",
    "    return (a+b)\n",
    "def sub(a,b):\n",
    "    return(a-b)\n",
    "def mul(a,b):\n",
    "    return(a*b)\n",
    "def div(a,b):\n",
    "    return(a/b)\n",
    "a=int(input(\"Enter a number \"))\n",
    "b=int(input(\"Enter b \"))\n",
    "o=input(\"Enter an operator + or - or * or / \")\n",
    "\n",
    "if(o=='+'):\n",
    "    print(add(a,b))\n",
    "elif o=='-':\n",
    "    print(sub(a,b))\n",
    "elif o=='*':\n",
    "    print(mul(a,b))\n",
    "elif o=='/' and b!=0:\n",
    "    print(div(a,b))\n",
    "\n",
    "elif o=='/' and b==0:\n",
    "    print(\"The value of b can't be zero\")\n",
    "else:\n",
    "    print(\"INVALID OPERATOR\")"
   ]
  },
  {
   "cell_type": "code",
   "execution_count": 11,
   "id": "45e77295",
   "metadata": {},
   "outputs": [
    {
     "name": "stdout",
     "output_type": "stream",
     "text": [
      "Hello world\n",
      "Enter 'Y ' to print more l\n"
     ]
    }
   ],
   "source": [
    "# recursive function\n",
    "def hello():\n",
    "    print(\"Hello world\")\n",
    "    n=input(\"Enter 'Y ' to print more \")\n",
    "    if n=='Y':\n",
    "        hello()\n",
    "hello()"
   ]
  },
  {
   "cell_type": "code",
   "execution_count": 12,
   "id": "88675bc3",
   "metadata": {},
   "outputs": [
    {
     "name": "stdout",
     "output_type": "stream",
     "text": [
      "3.141592653589793\n",
      "720\n",
      "2.718281828459045\n"
     ]
    }
   ],
   "source": [
    "# math function\n",
    "import math as m\n",
    "print(m.pi)\n",
    "print(m.factorial(6))\n",
    "print(m.e)"
   ]
  },
  {
   "cell_type": "code",
   "execution_count": 13,
   "id": "17987b27",
   "metadata": {},
   "outputs": [
    {
     "name": "stdout",
     "output_type": "stream",
     "text": [
      "Enter the value of r 2\n",
      "Area of circle is  12.566370614359172\n",
      "The value of sine 90 is 1.0\n"
     ]
    }
   ],
   "source": [
    "r= int(input(\"Enter the value of r \"))\n",
    "a=m.pi  * m.pow(r,2)\n",
    "print(\"Area of circle is \",a)\n",
    "print(\"The value of sine 90 is\",m.sin(m.pi/2))"
   ]
  },
  {
   "cell_type": "code",
   "execution_count": 20,
   "id": "17330939",
   "metadata": {},
   "outputs": [
    {
     "name": "stdout",
     "output_type": "stream",
     "text": [
      "Enter how many products are to be entered 2\n",
      "Enter the name of the product rice\n",
      "Enter the pricr for the product 1500\n",
      "Enter the quantity 2\n",
      "Enter the name of the product egg\\\n",
      "Enter the pricr for the product 20\n",
      "Enter the quantity 15\n",
      "rice 1500.0 2 3000.0\n",
      "egg\\ 20.0 15 300.0\n",
      "\n",
      "The total of the products is  3300.0\n"
     ]
    }
   ],
   "source": [
    "# WAP to create a billing system using function\n",
    "def total(p,q):\n",
    "    return p*q\n",
    "n=int(input(\"Enter how many products are to be entered \"))\n",
    "gt=0\n",
    "bill=\"\"\n",
    "while(n!=0):\n",
    "    name=input(\"Enter the name of the product \")\n",
    "    price=float(input(\"Enter the pricr for the product \"))\n",
    "    q=int(input(\"Enter the quantity \"))\n",
    "    gt+=total(price,q)\n",
    "    n-=1\n",
    "    bill += f\"{name} {price} {q} {total(price,q)}\\n\"\n",
    "print(bill)\n",
    "print(\"The total of the products is \",gt)\n"
   ]
  },
  {
   "cell_type": "code",
   "execution_count": 23,
   "id": "7e504ee8",
   "metadata": {},
   "outputs": [
    {
     "name": "stdout",
     "output_type": "stream",
     "text": [
      "Item\t price\t quantity\t\n",
      "\n"
     ]
    },
    {
     "ename": "UnboundLocalError",
     "evalue": "local variable 'n' referenced before assignment",
     "output_type": "error",
     "traceback": [
      "\u001b[1;31m---------------------------------------------------------------------------\u001b[0m",
      "\u001b[1;31mUnboundLocalError\u001b[0m                         Traceback (most recent call last)",
      "Cell \u001b[1;32mIn[23], line 17\u001b[0m\n\u001b[0;32m     14\u001b[0m     \u001b[38;5;28;01mreturn\u001b[39;00m bill,gt\n\u001b[0;32m     16\u001b[0m \u001b[38;5;28mprint\u001b[39m(\u001b[38;5;124m\"\u001b[39m\u001b[38;5;124mItem\u001b[39m\u001b[38;5;130;01m\\t\u001b[39;00m\u001b[38;5;124m price\u001b[39m\u001b[38;5;130;01m\\t\u001b[39;00m\u001b[38;5;124m quantity\u001b[39m\u001b[38;5;130;01m\\t\u001b[39;00m\u001b[38;5;130;01m\\n\u001b[39;00m\u001b[38;5;124m\"\u001b[39m)\n\u001b[1;32m---> 17\u001b[0m \u001b[38;5;28mprint\u001b[39m(\u001b[43mbilling\u001b[49m\u001b[43m(\u001b[49m\u001b[43m)\u001b[49m[\u001b[38;5;241m0\u001b[39m])\n\u001b[0;32m     18\u001b[0m \u001b[38;5;28mprint\u001b[39m(\u001b[38;5;124m\"\u001b[39m\u001b[38;5;124mGrand Total \u001b[39m\u001b[38;5;124m\"\u001b[39m,billing()[\u001b[38;5;241m1\u001b[39m])\n",
      "Cell \u001b[1;32mIn[23], line 7\u001b[0m, in \u001b[0;36mbilling\u001b[1;34m()\u001b[0m\n\u001b[0;32m      4\u001b[0m \u001b[38;5;28;01mdef\u001b[39;00m \u001b[38;5;21mbilling\u001b[39m():\n\u001b[0;32m      5\u001b[0m     \u001b[38;5;28;01mglobal\u001b[39;00m bill,gt\n\u001b[1;32m----> 7\u001b[0m     \u001b[38;5;28;01mwhile\u001b[39;00m(\u001b[43mn\u001b[49m\u001b[38;5;241m!=\u001b[39m\u001b[38;5;241m0\u001b[39m):\n\u001b[0;32m      8\u001b[0m         name\u001b[38;5;241m=\u001b[39m\u001b[38;5;28minput\u001b[39m(\u001b[38;5;124m\"\u001b[39m\u001b[38;5;124mEnter the name of the product \u001b[39m\u001b[38;5;124m\"\u001b[39m)\n\u001b[0;32m      9\u001b[0m         price\u001b[38;5;241m=\u001b[39m\u001b[38;5;28mfloat\u001b[39m(\u001b[38;5;28minput\u001b[39m(\u001b[38;5;124m\"\u001b[39m\u001b[38;5;124mEnter the pricr for the product \u001b[39m\u001b[38;5;124m\"\u001b[39m))\n",
      "\u001b[1;31mUnboundLocalError\u001b[0m: local variable 'n' referenced before assignment"
     ]
    }
   ],
   "source": [
    "# Alternate way \n",
    "bill=\"\"\n",
    "gt=0\n",
    "def billing():\n",
    "    global bill,gt\n",
    "    \n",
    "    while(n!=0):\n",
    "        name=input(\"Enter the name of the product \")\n",
    "        price=float(input(\"Enter the pricr for the product \"))\n",
    "        q=int(input(\"Enter the quantity \"))\n",
    "        gt+=total(price,q)\n",
    "        n-=1\n",
    "        bill += f\"{name} {price} {q} {total(price,q)}\\n\"\n",
    "    return bill,gt\n",
    "billing()\n",
    "print(\"Item\\t price\\t quantity\\t\\n\")\n",
    "print(billing()[0])\n",
    "print(\"Grand Total \",billing()[1])\n"
   ]
  },
  {
   "cell_type": "code",
   "execution_count": null,
   "id": "7f2d7bc5",
   "metadata": {},
   "outputs": [],
   "source": []
  }
 ],
 "metadata": {
  "kernelspec": {
   "display_name": "Python 3 (ipykernel)",
   "language": "python",
   "name": "python3"
  },
  "language_info": {
   "codemirror_mode": {
    "name": "ipython",
    "version": 3
   },
   "file_extension": ".py",
   "mimetype": "text/x-python",
   "name": "python",
   "nbconvert_exporter": "python",
   "pygments_lexer": "ipython3",
   "version": "3.10.9"
  }
 },
 "nbformat": 4,
 "nbformat_minor": 5
}
