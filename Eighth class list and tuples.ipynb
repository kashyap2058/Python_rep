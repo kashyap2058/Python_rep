{
 "cells": [
  {
   "cell_type": "code",
   "execution_count": 3,
   "id": "99aceab1",
   "metadata": {},
   "outputs": [
    {
     "name": "stdout",
     "output_type": "stream",
     "text": [
      "[1, 2, 3]\n",
      "2\n"
     ]
    }
   ],
   "source": [
    "#list inside lists\n",
    "l=[[1,2,3],[8,9,7],\"hahaha\"]\n",
    "print(l[0])\n",
    "print(l[0][1]) #Yesle chai l[0] ma vako list ko index=1 vako data dinxa"
   ]
  },
  {
   "cell_type": "code",
   "execution_count": 8,
   "id": "312fe267",
   "metadata": {},
   "outputs": [
    {
     "name": "stdout",
     "output_type": "stream",
     "text": [
      "Enter the number of values to be entered2\n",
      "Enter name ram\n",
      "Enter Age 15\n",
      "Enter Address kapan\n",
      "Enter name hari\n",
      "Enter Age 20\n",
      "Enter Address balkhu\n",
      "[['ram', 15, 'kapan'], ['hari', 20, 'balkhu']]\n"
     ]
    }
   ],
   "source": [
    "# insert list inside of a list using input from user\n",
    "l=[]\n",
    "n=int(input(\"Enter the number of values to be entered\"))\n",
    "for i in range(n):\n",
    "    o=input(\"Enter name \")\n",
    "    p=int(input(\"Enter Age \"))\n",
    "    r=input(\"Enter Address \")\n",
    "    l.append([o,p,r])\n",
    "print(l)"
   ]
  },
  {
   "cell_type": "raw",
   "id": "f38f36bf",
   "metadata": {},
   "source": [
    "      "
   ]
  },
  {
   "cell_type": "code",
   "execution_count": 21,
   "id": "edcb8605",
   "metadata": {},
   "outputs": [
    {
     "name": "stdout",
     "output_type": "stream",
     "text": [
      "Enter a value you want to searchhaha\n"
     ]
    }
   ],
   "source": [
    "a=[['ram', 15, 'kapan'], ['hari', 20, 'balkhu'],['Krishna',30,'koteshwor']]\n",
    "x=input(\"Enter a value you want to search\")\n",
    "for i in a:\n",
    "    if i[0].lower()==x.lower():\n",
    "        print(i)\n",
    "        "
   ]
  },
  {
   "cell_type": "code",
   "execution_count": null,
   "id": "b99e63d3",
   "metadata": {},
   "outputs": [],
   "source": []
  },
  {
   "cell_type": "code",
   "execution_count": null,
   "id": "d8cdc973",
   "metadata": {},
   "outputs": [],
   "source": []
  },
  {
   "cell_type": "code",
   "execution_count": 22,
   "id": "d68341f1",
   "metadata": {},
   "outputs": [
    {
     "name": "stdout",
     "output_type": "stream",
     "text": [
      "<class 'tuple'>\n"
     ]
    }
   ],
   "source": [
    "# tupels \n",
    "# tupels banauda sadhai add comma after element else it will be a primitive data type\n",
    "a=(1,2,3,4,5,6,7,8,9)\n",
    "print(type(a))"
   ]
  },
  {
   "cell_type": "code",
   "execution_count": 23,
   "id": "eb2378e9",
   "metadata": {},
   "outputs": [],
   "source": [
    "# no append,insert,extend,update,del,pop,remove,sort,reverse\n",
    "# only allows concatination(+),enlargement(*)"
   ]
  },
  {
   "cell_type": "code",
   "execution_count": 24,
   "id": "8ce0bcf4",
   "metadata": {},
   "outputs": [
    {
     "name": "stdout",
     "output_type": "stream",
     "text": [
      "<class 'tuple'>\n",
      "Enter n2\n",
      "Enter x 1\n",
      "Enter x 2\n",
      "(1, 2)\n"
     ]
    }
   ],
   "source": [
    "t=()\n",
    "print(type(t))\n",
    "n=int(input(\"Enter n\"))\n",
    "for i in range(n):\n",
    "    x=int(input(\"Enter x \"))\n",
    "    t=t+(x,) #(X,) le cahi x lai tuple ma lanxa\n",
    "print(t)\n",
    "    "
   ]
  },
  {
   "cell_type": "code",
   "execution_count": 26,
   "id": "4d041450",
   "metadata": {},
   "outputs": [
    {
     "name": "stdout",
     "output_type": "stream",
     "text": [
      "(1, 'haha', 2, 3, 4)\n"
     ]
    }
   ],
   "source": [
    "#LIST lai tuple banauna milxa by using \"tuple\" and tuple to list by using \"list\"\n",
    "x=(1,2,3,4)\n",
    "a=list(x) #converting tuple to list so that we can edit it\n",
    "a.insert(1,\"haha\")\n",
    "b=tuple(a) #list back to tuple\n",
    "print(b)"
   ]
  },
  {
   "cell_type": "code",
   "execution_count": null,
   "id": "3d1b7d17",
   "metadata": {},
   "outputs": [],
   "source": []
  }
 ],
 "metadata": {
  "kernelspec": {
   "display_name": "Python 3 (ipykernel)",
   "language": "python",
   "name": "python3"
  },
  "language_info": {
   "codemirror_mode": {
    "name": "ipython",
    "version": 3
   },
   "file_extension": ".py",
   "mimetype": "text/x-python",
   "name": "python",
   "nbconvert_exporter": "python",
   "pygments_lexer": "ipython3",
   "version": "3.10.9"
  }
 },
 "nbformat": 4,
 "nbformat_minor": 5
}
