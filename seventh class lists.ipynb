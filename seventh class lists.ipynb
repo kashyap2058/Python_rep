{
 "cells": [
  {
   "cell_type": "code",
   "execution_count": 1,
   "id": "53c72d40",
   "metadata": {},
   "outputs": [],
   "source": [
    "# python collection \n",
    "# list\n",
    "# tuple\n",
    "# dictionary\n",
    "# set"
   ]
  },
  {
   "cell_type": "code",
   "execution_count": 2,
   "id": "ccb2247f",
   "metadata": {},
   "outputs": [],
   "source": [
    "# lists\n",
    "# -follows indexing\n",
    "# -multiple and duplicate values\n",
    "# -ordered\n",
    "# -Mutable"
   ]
  },
  {
   "cell_type": "code",
   "execution_count": 3,
   "id": "3ab290f6",
   "metadata": {},
   "outputs": [
    {
     "name": "stdout",
     "output_type": "stream",
     "text": [
      "<class 'list'>\n",
      "[1, 2, 3, 4, 'Kashyap', 10.2]\n",
      "[2, 3, 4, 'Kashyap']\n",
      "[1, 3, 'Kashyap']\n"
     ]
    }
   ],
   "source": [
    "a=[1,2,3,4,\"Kashyap\",10.2]\n",
    "print(type(a))\n",
    "print(a)\n",
    "print(a[1:5])\n",
    "print(a[0:6:2])"
   ]
  },
  {
   "cell_type": "code",
   "execution_count": 4,
   "id": "184aa0b9",
   "metadata": {},
   "outputs": [
    {
     "name": "stdout",
     "output_type": "stream",
     "text": [
      "['apple', 'ball', 'cat', 'apple', 'egg', 'ball']\n",
      "2\n"
     ]
    }
   ],
   "source": [
    "b=['apple','ball','cat','apple','egg','ball'] #supports duplicate values\n",
    "print(b)\n",
    "print(b.count('apple'))"
   ]
  },
  {
   "cell_type": "code",
   "execution_count": 5,
   "id": "f8ea521f",
   "metadata": {},
   "outputs": [
    {
     "name": "stdout",
     "output_type": "stream",
     "text": [
      "[1, 2, 3, 4, 5, 8, 9, 10, 11]\n",
      "[1, 2, 3, 4, 5, 1, 2, 3, 4, 5]\n"
     ]
    }
   ],
   "source": [
    "# operators in lists : * ; +\n",
    "a=[1,2,3,4,5]\n",
    "b=[8,9,10,11]\n",
    "print(a+b)\n",
    "print(a*2)"
   ]
  },
  {
   "cell_type": "code",
   "execution_count": 6,
   "id": "c02e4db7",
   "metadata": {},
   "outputs": [
    {
     "name": "stdout",
     "output_type": "stream",
     "text": [
      "Enter n 2\n",
      "Enter the value 2\n",
      "Enter the value 2\n",
      "['2', '2']\n"
     ]
    }
   ],
   "source": [
    "l=[]\n",
    "c= int(input(\"Enter n \"))\n",
    "for i in range(c):\n",
    "    \n",
    "    n=input(\"Enter the value \")\n",
    "    l.append(n)\n",
    "print(l)"
   ]
  },
  {
   "cell_type": "code",
   "execution_count": 7,
   "id": "46b2c85d",
   "metadata": {},
   "outputs": [
    {
     "name": "stdout",
     "output_type": "stream",
     "text": [
      "Enter n 2\n",
      "Enter a number12\n",
      "Enter a number13\n",
      "[12, 13]\n",
      "[12, 13, 'Kashyap']\n"
     ]
    }
   ],
   "source": [
    "l=[]\n",
    "n=int(input(\"Enter n \"))\n",
    "for i in range(n):\n",
    "    a=int(input(\"Enter a number\"))\n",
    "    l.insert(i,a)\n",
    "print(l)\n",
    "l.insert(4,\"Kashyap\") #inserts \"Kashyap\" at 3rd index of the list\n",
    "print(l)"
   ]
  },
  {
   "cell_type": "code",
   "execution_count": 8,
   "id": "9492904f",
   "metadata": {},
   "outputs": [
    {
     "name": "stdout",
     "output_type": "stream",
     "text": [
      "[1, 2, 3, 4, 5, 6, 10, 11, 12]\n"
     ]
    }
   ],
   "source": [
    "l=[1,2,3,4,5,6]\n",
    "a=[10,11,12]\n",
    "l.extend(a) #l ma gayera update garxa extends le chai\n",
    "print(l)"
   ]
  },
  {
   "cell_type": "code",
   "execution_count": 9,
   "id": "a6ad28f4",
   "metadata": {},
   "outputs": [
    {
     "name": "stdout",
     "output_type": "stream",
     "text": [
      "34242424\n",
      "20\n",
      "38753928\n",
      "[20, 2034, 4522, 12444, 4492484, 34242424]\n",
      "[34242424, 4492484, 12444, 4522, 2034, 20]\n",
      "None\n"
     ]
    }
   ],
   "source": [
    "l=[2034,12444,4522,4492484,34242424,20]\n",
    "print(max(l))\n",
    "print(min(l))\n",
    "print(sum(l))\n",
    "l.sort()\n",
    "print(l)\n",
    "l.reverse() #string huda alphabetical order ma halxa\n",
    "print(l)\n",
    "a=[9,4,5,0,3,5]\n",
    "print(a.sort()) #yo chai mildaina rahexa none dekhauxa\n"
   ]
  },
  {
   "cell_type": "code",
   "execution_count": 10,
   "id": "43b6d44c",
   "metadata": {},
   "outputs": [
    {
     "name": "stdout",
     "output_type": "stream",
     "text": [
      "['Dog', 'Papaya', 'ant', 'ball', 'egg']\n",
      "yes\n"
     ]
    }
   ],
   "source": [
    "a=['ant','ball','egg','Papaya','Dog']\n",
    "a.sort() #suruma chai capital letter vako lai rakhxa yesle priority order special caharacters > Capital letter > Small letter\n",
    "print(a) \n",
    "#if else statements in list\n",
    "if \"ant\" in a:\n",
    "    print(\"yes\")\n",
    "else:\n",
    "    print(\"No\")"
   ]
  },
  {
   "cell_type": "code",
   "execution_count": 6,
   "id": "1515e0c4",
   "metadata": {},
   "outputs": [
    {
     "name": "stdout",
     "output_type": "stream",
     "text": [
      "Enter a string that you want to search ANT\n",
      "Value found \n"
     ]
    }
   ],
   "source": [
    "#WAP to search any values in a list having no case sensitivity:\n",
    "n=input(\"Enter a string that you want to search \")\n",
    "a=['ant','ball','egg','Papaya','Dog']\n",
    "for i in a:\n",
    "    if i.lower()==n.lower():\n",
    "        index=True\n",
    "        break\n",
    "    else:\n",
    "        index=False\n",
    "if index:\n",
    "    print(\"Value found \")\n",
    "else:\n",
    "    print(\"not found\")"
   ]
  },
  {
   "cell_type": "code",
   "execution_count": 19,
   "id": "bdf5cc21",
   "metadata": {},
   "outputs": [
    {
     "name": "stdout",
     "output_type": "stream",
     "text": [
      "[1, 2, 4, 5, 6]\n",
      "[1, 4, 5]\n",
      "[1, 5]\n",
      "[13, 14]\n",
      "[13, 'KASHYAP']\n",
      "['Update 1', 'Update 2']\n"
     ]
    }
   ],
   "source": [
    "# delete values from list:\n",
    "# del pop(index) remove(element)\n",
    "l=[1,2,3,4,5,6]\n",
    "del l[2] #second index ma vako value lai delete gardinxa yesle \n",
    "print(l)\n",
    "l.pop(-1)\n",
    "l.pop(1)\n",
    "print(l)\n",
    "l.remove(4)\n",
    "print(l)\n",
    "a=[9,10,11,12,13,14]\n",
    "del a[0:4] #0 deki 3 samma delete hunxa\n",
    "print(a)\n",
    "#update \n",
    "a[1]=\"KASHYAP\"\n",
    "print(a)\n",
    "a[0:2]=[\"Update 1\",\"Update 2\"]\n",
    "print(a)"
   ]
  },
  {
   "cell_type": "code",
   "execution_count": 9,
   "id": "f728dd4a",
   "metadata": {},
   "outputs": [
    {
     "name": "stdout",
     "output_type": "stream",
     "text": [
      "['cat']\n"
     ]
    }
   ],
   "source": [
    "#WAP to remove multiple duplicate values from list\n",
    "a=['apple','ball','bat','cat','apple','ball']\n",
    "c[]=0\n",
    "index=0\n",
    "for i in a:\n",
    "    c[index]=a.count(i)\n",
    "    index+=1\n",
    "print(a)\n"
   ]
  }
 ],
 "metadata": {
  "kernelspec": {
   "display_name": "Python 3 (ipykernel)",
   "language": "python",
   "name": "python3"
  },
  "language_info": {
   "codemirror_mode": {
    "name": "ipython",
    "version": 3
   },
   "file_extension": ".py",
   "mimetype": "text/x-python",
   "name": "python",
   "nbconvert_exporter": "python",
   "pygments_lexer": "ipython3",
   "version": "3.10.9"
  }
 },
 "nbformat": 4,
 "nbformat_minor": 5
}
