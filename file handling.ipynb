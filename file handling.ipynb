{
 "cells": [
  {
   "cell_type": "code",
   "execution_count": 1,
   "id": "7187e6a1",
   "metadata": {},
   "outputs": [],
   "source": [
    "# file = open('<filename>','access mode')  or use \"with open ('<File name>',<mode>') as file :     (Yo case ma chai file lai close garna pardaina)\n",
    "\n",
    "# file.close()"
   ]
  },
  {
   "cell_type": "code",
   "execution_count": 4,
   "id": "306033a9",
   "metadata": {},
   "outputs": [],
   "source": [
    "# modes \n",
    "# read -> r\n",
    "# create -> x\n",
    "# write -> w\n",
    "# append -> a"
   ]
  },
  {
   "cell_type": "code",
   "execution_count": 5,
   "id": "a1ec6823",
   "metadata": {},
   "outputs": [],
   "source": [
    "file = open('data.txt','x') #data.txt create garyo\n",
    "file.close()"
   ]
  },
  {
   "cell_type": "code",
   "execution_count": 8,
   "id": "56e753cb",
   "metadata": {},
   "outputs": [
    {
     "name": "stdout",
     "output_type": "stream",
     "text": [
      "1.Hellooooooo\n",
      "2.Hellooooooo\n",
      "3.Hellooooooo\n",
      "4.Hellooooooo\n",
      "5.Hellooooooo\n",
      "<class 'str'>\n"
     ]
    }
   ],
   "source": [
    "file = open('data.txt','r')\n",
    "x=file.read()\n",
    "print(x)\n",
    "print(type(x))\n",
    "file.close()"
   ]
  },
  {
   "cell_type": "code",
   "execution_count": 13,
   "id": "d4a36313",
   "metadata": {},
   "outputs": [],
   "source": [
    "file = open('data.txt','w')\n",
    "x=file.write('''1.Hellooooooo\n",
    "2.Hellooooooo\n",
    "3.Hellooooooo\n",
    "4.Hellooooooo\n",
    "5.Hellooooooo''')\n",
    "# print(x)\n",
    "# print(type(x))\n",
    "\n",
    "file.close()"
   ]
  },
  {
   "cell_type": "code",
   "execution_count": 19,
   "id": "83a3fd18",
   "metadata": {},
   "outputs": [
    {
     "name": "stdout",
     "output_type": "stream",
     "text": [
      "['1', 'Hellooooooo\\n2', 'Hellooooooo\\n3', 'Hellooooooo\\n4', 'Hellooooooo\\n5', 'HelloooooooHahahahahahia hehehehehe hohohohoho']\n",
      "['1.Hellooooooo', '2.Hellooooooo', '3.Hellooooooo', '4.Hellooooooo', '5.HelloooooooHahahahahahia hehehehehe hohohohoho']\n",
      "1.Hellooooooo\n",
      "2.Hellooooooo\n",
      "3.Hellooooooo\n",
      "4.Hellooooooo\n",
      "5.HelloooooooHahahahahahia hehehehehe hohohohoho\n"
     ]
    }
   ],
   "source": [
    "file = open('data.txt','r')\n",
    "x=file.read()\n",
    "y=x.split('.') #yesle split garxa from .\n",
    "z=x.split('\\n') #yesle split garxa from new line ani list ma halxa\n",
    "print(y)\n",
    "print(z)\n",
    "print(x)\n",
    "# print(type())\n",
    "file.close()"
   ]
  },
  {
   "cell_type": "code",
   "execution_count": 24,
   "id": "4eec14d1",
   "metadata": {},
   "outputs": [
    {
     "name": "stdout",
     "output_type": "stream",
     "text": [
      "Enter a string to enter gegegegeg \n",
      "1.Hellooooooo\n",
      "2.Hellooooooo\n",
      "3.Hellooooooo\n",
      "4.Hellooooooo\n",
      "5.HelloooooooHahahahahahia hehehehehe hohohohohoHehehegegegegeg \n",
      "<class 'str'>\n"
     ]
    }
   ],
   "source": [
    "file=open('data.txt','a')\n",
    "n=input(\"Enter a string to enter \")\n",
    "file.write(n)\n",
    "file.close()\n",
    "\n",
    "\n",
    "\n",
    "file = open('data.txt','r')\n",
    "x=file.read()\n",
    "print(x)\n",
    "print(type(x))\n",
    "file.close()"
   ]
  },
  {
   "cell_type": "code",
   "execution_count": 18,
   "id": "bde7b15d",
   "metadata": {},
   "outputs": [
    {
     "name": "stdout",
     "output_type": "stream",
     "text": [
      "1.Hellooooooo\n",
      "2.Hellooooooo\n",
      "3.Hellooooooo\n",
      "4.Hellooooooo\n",
      "5.HelloooooooHahahahahahia hehehehehe hohohohoho\n",
      "<class 'str'>\n"
     ]
    }
   ],
   "source": []
  },
  {
   "cell_type": "code",
   "execution_count": 29,
   "id": "582e8d0a",
   "metadata": {},
   "outputs": [
    {
     "name": "stdout",
     "output_type": "stream",
     "text": [
      "Enter how many products are to be entered 2\n",
      "Enter the name of the product Rice\n",
      "Enter the pricr for the product 151\n",
      "Enter the quantity 20\n",
      "Enter the name of the product Anda\n",
      "Enter the pricr for the product 150\n",
      "Enter the quantity 2\n",
      "The total of the products is  3320.0\n",
      "name    price   Quantity   Total\n",
      "Rice\t151.0\t20\t3020.0\n",
      "Anda\t150.0\t2\t300.0\n",
      "\n"
     ]
    }
   ],
   "source": [
    "# storing bill in a file\n",
    "def total(p,q):\n",
    "    return p*q\n",
    "n=int(input(\"Enter how many products are to be entered \"))\n",
    "gt=0\n",
    "bill=\"\"\n",
    "while(n!=0):\n",
    "    name=input(\"Enter the name of the product \")\n",
    "    price=float(input(\"Enter the pricr for the product \"))\n",
    "    q=int(input(\"Enter the quantity \"))\n",
    "    gt+=total(price,q)\n",
    "    n-=1\n",
    "    bill += f\"{name}\\t{price}\\t{q}\\t{total(price,q)}\\n\"\n",
    "    \n",
    "file=open('Bill.txt','w')\n",
    "file.write(\"name    price   Quantity   Total\\n\")\n",
    "file.write(bill)\n",
    "print(\"The total of the products is \",gt)\n",
    "\n",
    "\n",
    "\n",
    "file = open('Bill.txt','r')\n",
    "x=file.read()\n",
    "print(x)\n",
    "# print(type(x))\n",
    "file.close()"
   ]
  },
  {
   "cell_type": "code",
   "execution_count": 21,
   "id": "d2075801",
   "metadata": {},
   "outputs": [
    {
     "name": "stdout",
     "output_type": "stream",
     "text": [
      "egg 20.0 15 300.0\n",
      "rice 2000.0 1 2000.0\n",
      "Chowchow 20.0 20 400.0\n",
      "\n"
     ]
    }
   ],
   "source": [
    "file = open('Bill.txt','r')\n",
    "x=file.read()\n",
    "print(x)\n",
    "# print(type(x))\n",
    "file.close()"
   ]
  },
  {
   "cell_type": "code",
   "execution_count": 36,
   "id": "5e460a03",
   "metadata": {},
   "outputs": [
    {
     "name": "stdout",
     "output_type": "stream",
     "text": [
      "Enter how many products are to be entered 2\n",
      "Enter the name of the product egg\n",
      "Enter the pricr for the product 20\n",
      "Enter the quantity 15\n",
      "Enter the name of the product Rice\n",
      "Enter the pricr for the product 1500\n",
      "Enter the quantity 2\n",
      "The total of the products is  3300.0\n",
      "name,price,Quantity,Total\n",
      "Apple\t,51.0\t,2\t,102.0\n",
      "Banana\t,20.0\t,2\t,40.0\n",
      "egg\t,20.0\t,15\t,300.0\n",
      "Rice\t,1500.0\t,2\t,3000.0\n",
      "\n"
     ]
    }
   ],
   "source": [
    "# for csv files csv chai excel le read garne file\n",
    "\n",
    "# storing bill in a file\n",
    "def total(p,q):\n",
    "    return p*q\n",
    "n=int(input(\"Enter how many products are to be entered \"))\n",
    "gt=0\n",
    "bill=\"\"\n",
    "while(n!=0):\n",
    "    name=input(\"Enter the name of the product \")\n",
    "    price=float(input(\"Enter the pricr for the product \"))\n",
    "    q=int(input(\"Enter the quantity \"))\n",
    "    gt+=total(price,q)\n",
    "    n-=1\n",
    "    bill += f\"{name}\\t,{price}\\t,{q}\\t,{total(price,q)}\\n\" #csv ma chai comma le saperate garxa\n",
    "    \n",
    "file=open('Billcsv.csv','a')\n",
    "file.write(bill)\n",
    "print(\"The total of the products is \",gt)\n",
    "\n",
    "\n",
    "\n",
    "file = open('Billcsv.csv','r')\n",
    "x=file.read()\n",
    "print(x)\n",
    "# print(type(x))\n",
    "file.close()"
   ]
  },
  {
   "cell_type": "code",
   "execution_count": 34,
   "id": "4e6bf982",
   "metadata": {},
   "outputs": [
    {
     "data": {
      "text/plain": [
       "'C:\\\\Users\\\\Kashyap Ghimire\\\\python training\\\\Python basics training'"
      ]
     },
     "execution_count": 34,
     "metadata": {},
     "output_type": "execute_result"
    }
   ],
   "source": [
    "pwd"
   ]
  },
  {
   "cell_type": "raw",
   "id": "96b19ed0",
   "metadata": {},
   "source": [
    "# To extract values in list inside list format\n",
    "file = open('Billcsv.csv','r')\n",
    "x=file.read()\n",
    "y=x.split('\\n')\n",
    "print(x)\n",
    "finalData=[]\n",
    "for i in y:\n",
    "    finalData.append(i.split(','))\n",
    "print(finalData)\n",
    "\n",
    "for i in range(len(y)):\n",
    "    finalData[1]=int(finalData[1])\n",
    "    finalData[2]=int(finalData[2])\n",
    "    finalData[3]=int(finalData[3])\n",
    " print(finalData)"
   ]
  },
  {
   "cell_type": "code",
   "execution_count": 3,
   "id": "af7b4ec9",
   "metadata": {},
   "outputs": [
    {
     "name": "stdout",
     "output_type": "stream",
     "text": [
      "name,price,Quantity,Total\n",
      "Apple\t,51.0\t,2\t,102.0\n",
      "Banana\t,20.0\t,2\t,40.0\n",
      "egg\t,20.0\t,15\t,300.0\n",
      "Rice\t,1500.0\t,2\t,3000.0\n",
      "\n",
      "[['name', 'price', 'Quantity', 'Total'], ['Apple\\t', '51.0\\t', '2\\t', '102.0'], ['Banana\\t', '20.0\\t', '2\\t', '40.0'], ['egg\\t', '20.0\\t', '15\\t', '300.0'], ['Rice\\t', '1500.0\\t', '2\\t', '3000.0'], ['']]\n"
     ]
    },
    {
     "ename": "TypeError",
     "evalue": "int() argument must be a string, a bytes-like object or a real number, not 'list'",
     "output_type": "error",
     "traceback": [
      "\u001b[1;31m---------------------------------------------------------------------------\u001b[0m",
      "\u001b[1;31mTypeError\u001b[0m                                 Traceback (most recent call last)",
      "Cell \u001b[1;32mIn[3], line 12\u001b[0m\n\u001b[0;32m      9\u001b[0m \u001b[38;5;28mprint\u001b[39m(finalData)\n\u001b[0;32m     11\u001b[0m \u001b[38;5;28;01mfor\u001b[39;00m i \u001b[38;5;129;01min\u001b[39;00m \u001b[38;5;28mrange\u001b[39m(\u001b[38;5;28mlen\u001b[39m(y)):\n\u001b[1;32m---> 12\u001b[0m     finalData[\u001b[38;5;241m1\u001b[39m]\u001b[38;5;241m=\u001b[39m\u001b[38;5;28;43mint\u001b[39;49m\u001b[43m(\u001b[49m\u001b[43mfinalData\u001b[49m\u001b[43m[\u001b[49m\u001b[38;5;241;43m1\u001b[39;49m\u001b[43m]\u001b[49m\u001b[43m)\u001b[49m\n\u001b[0;32m     13\u001b[0m     finalData[\u001b[38;5;241m2\u001b[39m]\u001b[38;5;241m=\u001b[39m\u001b[38;5;28mint\u001b[39m(finalData[\u001b[38;5;241m2\u001b[39m])\n\u001b[0;32m     14\u001b[0m     finalData[\u001b[38;5;241m3\u001b[39m]\u001b[38;5;241m=\u001b[39m\u001b[38;5;28mint\u001b[39m(finalData[\u001b[38;5;241m3\u001b[39m])\n",
      "\u001b[1;31mTypeError\u001b[0m: int() argument must be a string, a bytes-like object or a real number, not 'list'"
     ]
    }
   ],
   "source": [
    "# To extract values in list inside list format\n",
    "file = open('Billcsv.csv','r')\n",
    "x=file.read()\n",
    "y=x.split('\\n')\n",
    "print(x)\n",
    "finalData=[]\n",
    "for i in y:\n",
    "    finalData.append(i.split(','))\n",
    "print(finalData)\n",
    "\n",
    "for i in range(len(y)):\n",
    "    a=int(finalData[1])\n",
    "    finalData[1]=\n",
    "    finalData[3]=int(finalData[3])\n",
    "print(finalData)"
   ]
  },
  {
   "cell_type": "code",
   "execution_count": null,
   "id": "ed8831ba",
   "metadata": {},
   "outputs": [],
   "source": []
  }
 ],
 "metadata": {
  "kernelspec": {
   "display_name": "Python 3 (ipykernel)",
   "language": "python",
   "name": "python3"
  },
  "language_info": {
   "codemirror_mode": {
    "name": "ipython",
    "version": 3
   },
   "file_extension": ".py",
   "mimetype": "text/x-python",
   "name": "python",
   "nbconvert_exporter": "python",
   "pygments_lexer": "ipython3",
   "version": "3.10.9"
  }
 },
 "nbformat": 4,
 "nbformat_minor": 5
}
